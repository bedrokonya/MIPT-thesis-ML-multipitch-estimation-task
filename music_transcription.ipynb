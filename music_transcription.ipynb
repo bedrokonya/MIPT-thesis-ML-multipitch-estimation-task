{
 "cells": [
  {
   "cell_type": "markdown",
   "metadata": {},
   "source": [
    "Возможные способы считывать аудио-файлы с помощью питона:\n",
    "\n",
    "https://stackoverflow.com/questions/2060628/reading-wav-files-in-python\n",
    "\n",
    "Stereo to Mono:\n",
    "\n",
    "https://stackoverflow.com/questions/43056088/stereo-to-mono-wave-interpolation-in-python\n",
    "https://stackoverflow.com/questions/30401042/stereo-to-mono-wav-in-python\n",
    "\n",
    "Про считывание и записывание wave-файлов:\n",
    "\n",
    "http://www.labbookpages.co.uk/audio/wavFiles.html\n",
    "\n",
    "https://github.com/mbereket/music-transcription\n",
    "\n",
    "\n",
    "Why is Fourier Transform so important?\n",
    "\n",
    "https://dsp.stackexchange.com/questions/69/why-is-the-fourier-transform-so-important\n",
    "\n",
    "Полезная презентация:\n",
    "\n",
    "http://www.machinelearning.ru/wiki/images/c/cf/NizhibitskyMusicSlides.pdf\n"
   ]
  },
  {
   "cell_type": "markdown",
   "metadata": {},
   "source": [
    "https://ru.wikipedia.org/wiki/Импульсно-кодовая_модуляция"
   ]
  },
  {
   "cell_type": "markdown",
   "metadata": {},
   "source": [
    "## Data preparing \n",
    "### specifically for MAPS dataset"
   ]
  },
  {
   "cell_type": "code",
   "execution_count": 1,
   "metadata": {},
   "outputs": [],
   "source": [
    "import soundfile as sf\n",
    "import numpy as np\n",
    "import os\n",
    "import pandas as pd\n",
    "from tqdm import tqdm\n",
    "from IPython.display import clear_output\n",
    "from tempfile import TemporaryFile\n",
    "import tensorflow as tf\n",
    "import matplotlib.pyplot as plt\n",
    "import matplotlib.mlab as mlab\n",
    "\n",
    "\n",
    "# pd.set_option('display.max_rows', 20)"
   ]
  },
  {
   "cell_type": "code",
   "execution_count": 2,
   "metadata": {},
   "outputs": [],
   "source": [
    "example_wav_path = 'MAPS/AkPnStgb/MUS/MAPS_MUS-alb_esp2_AkPnStgb.wav'\n",
    "example_txt_path = 'MAPS/AkPnStgb/MUS/MAPS_MUS-alb_esp2_AkPnStgb.txt'\n",
    "REL_PATH = 'MAPS/'\n",
    "files = []"
   ]
  },
  {
   "cell_type": "code",
   "execution_count": 3,
   "metadata": {},
   "outputs": [],
   "source": [
    "# checks if the files in the given triplet exists at all\n",
    "def check_file_triplet_valid(triplet):\n",
    "    for filename in triplet:\n",
    "        if os.path.isfile(filename):\n",
    "            continue\n",
    "        else:\n",
    "            raise Exception(\"The given file doesn't exist\")\n",
    "    return True"
   ]
  },
  {
   "cell_type": "code",
   "execution_count": 4,
   "metadata": {},
   "outputs": [],
   "source": [
    "\n",
    "for f in os.scandir(REL_PATH):\n",
    "    if f.is_dir():\n",
    "        for (dirpath, dirnames, filenames) in os.walk(f.path):\n",
    "            for file in filenames:\n",
    "                if file.endswith(\".wav\"):\n",
    "                    fullpath = dirpath + '/' + file # forms the path to the file\n",
    "                    base = os.path.splitext(fullpath)[0] # gets the path to the file without its extention\n",
    "                    triplet = [base + '.wav', base + '.mid', base + '.txt'] # forms the triplet of files: .wav, .mid, .txt\n",
    "                    if check_file_triplet_valid(triplet):\n",
    "                        files.append(triplet)\n"
   ]
  },
  {
   "cell_type": "code",
   "execution_count": 5,
   "metadata": {},
   "outputs": [
    {
     "data": {
      "text/plain": [
       "29880"
      ]
     },
     "execution_count": 5,
     "metadata": {},
     "output_type": "execute_result"
    }
   ],
   "source": [
    "len(files)"
   ]
  },
  {
   "cell_type": "code",
   "execution_count": 6,
   "metadata": {},
   "outputs": [],
   "source": [
    "# transforms only 2-channel audiofile, others leaves untouched\n",
    "def make_mono_audiofile(data):\n",
    "    if data.shape[1] == 2:\n",
    "        data = (data[:, 0] + data[:,1]) / 2\n",
    "    return data\n",
    "        \n",
    "# переводит в данном датафрейме в полях \"OnsetTime\" и \"OffsetTIme\" время в секундах в номер фрейма\n",
    "def translate_time_to_sample_number(data):\n",
    "    data[\"OnsetTime\"] = np.round(data.values[:, 0] * SAMPLERATE).astype(int)\n",
    "    data[\"OffsetTime\"] = np.round(data.values[:, 1] * SAMPLERATE).astype(int)\n",
    "    return data"
   ]
  },
  {
   "cell_type": "markdown",
   "metadata": {},
   "source": [
    "#### A sample is the smallest usable quantum of digital audio. The term frame isn't formally defined in pure audio terms, but is often used in relation to video that may accompany an audio track. In that context a frame is the quantity of audio samples taken during a video frame interval."
   ]
  },
  {
   "cell_type": "markdown",
   "metadata": {},
   "source": [
    "According to my copy of the absolutely essential (!) Master Handbook of Acoustics, to hear shorter tones, that is sounds with a short impulse, they need to be louder:\n",
    "\n",
    "A 1,000-Hz tone sounds like 1,000 Hz in a 1-second tone burst, but an extremely short burst sounds like a click. The duration of such a burst also influences the perceived loudness. Short bursts do not sound as loud as longer ones... A pulse 3 milliseconds long must have a level about 15dB higher to sound as loud as a 0.5-second (500 millisecond) pulse. Tones and random noise follow roughly the same relationship in loudness vs. pulse length.\n",
    "\n",
    "The 100-msec region is significant... Only when the tones or noise bursts are shorter than this amount must the sound-pressure level be increased to produce a loudness equal to that of long pulses or steady tones or noise. This 100 msec appears to be the integrating time or the time constant of the human ear. (Everest 2001, 60-61)"
   ]
  },
  {
   "cell_type": "code",
   "execution_count": 4,
   "metadata": {},
   "outputs": [],
   "source": [
    "WINDOW_SIZE = 16384 # samples per frame\n",
    "SAMPLERATE = 44100 # samples per sec\n",
    "MIDI_PITCH_AMOUNT = 128\n",
    "DEBUG_MODE = True\n",
    "SAVE_DATA_TO_FILE_PERIOD = 50\n",
    "\n",
    "# считаем, что нота прозвучала во время фрейма, только если количество \n",
    "# семплов проигрывающих данную ноту в этой фрейме превышает MIN_SAMPLES_PRESENT\n",
    "MIN_SAMPLES_PRESENT = 0.1 * SAMPLERATE / 2\n",
    "\n",
    "midi_statistics = np.zeros(MIDI_PITCH_AMOUNT)"
   ]
  },
  {
   "cell_type": "code",
   "execution_count": 8,
   "metadata": {},
   "outputs": [],
   "source": [
    "# returns frames (numpy.ndarray of the shape (None, WINDOW_SIZE))\n",
    "# and labels (numpy.ndarray of the shape (None, MIDI_PITCH_NUM))) for an audiofile\n",
    "def preprocess_audiofile(path_wav, path_txt):\n",
    "    \n",
    "    # data (numpy.ndarray) – a two-dimensional NumPy array is returned,\n",
    "    # where the channels are stored along the first dimension, i.e. as columns. \n",
    "    data_wav, samplerate = sf.read(path_wav)\n",
    "    data_txt = pd.read_csv(path_txt, sep=\"\\t\", header=0)\n",
    "\n",
    "    assert(samplerate==SAMPLERATE)\n",
    "    \n",
    "    data_wav = make_mono_audiofile(data_wav)\n",
    "    data_txt = translate_time_to_sample_number(data_txt)\n",
    "    chunks_amount = len(data_wav) // WINDOW_SIZE\n",
    "    samples_amount = WINDOW_SIZE * chunks_amount\n",
    "    # отбрасываем конец аудиофайла, если количество\n",
    "    # сэмплов в нем НЕ делится ровно на WINDOW_SIZE\n",
    "    data_wav = data_wav[:samples_amount] \n",
    "    \n",
    "    # делим data_wav на одинаковые chunks_amount, если длина data_wav\n",
    "    # НЕ делится ровно на chunks_amount, то np.split должен будет выбросить exception\n",
    "    frames = np.array(np.split(data_wav, chunks_amount))\n",
    "    labels = np.array(get_labels_for_audiofile(data_txt, frames))\n",
    "    \n",
    "    if DEBUG_MODE:\n",
    "        print(\"==== preprocessing file: {} ====\".format(path_wav))\n",
    "        print(\"frames shape: {}\".format(frames.shape))\n",
    "        print(\"labels shape: {}\".format(labels.shape))\n",
    "        assert frames.shape[0] == labels.shape[0], \"frames.shape[0] should be equal to labels.shape[0]\"\n",
    "    return frames, labels\n",
    "    "
   ]
  },
  {
   "cell_type": "code",
   "execution_count": 9,
   "metadata": {},
   "outputs": [],
   "source": [
    "def get_labels_for_audiofile(data_txt, frames):\n",
    "    \n",
    "    # Для каждого frame'a заданного размера WINDOW_SIZE хотим создать label,\n",
    "    # который представляет из себя вектор из 0 и 1 размера MIDI_PITCH_AMOUNT,\n",
    "    # обозначающий, звучала ли соответствующая нота во время этого frame'a или нет\n",
    "    # инициализируем все нулями\n",
    "    labels = np.zeros((len(frames), MIDI_PITCH_AMOUNT), dtype=int)\n",
    "    \n",
    "    for i in np.arange(data_txt.shape[0]):\n",
    "\n",
    "        onset_time = data_txt.values[i][0]\n",
    "        offset_time = data_txt.values[i][1]\n",
    "        midi_pitch = data_txt.values[i][2]\n",
    "        midi_statistics[midi_pitch] += 1\n",
    "        \n",
    "        begin_frame = onset_time // WINDOW_SIZE\n",
    "        end_frame = offset_time // WINDOW_SIZE\n",
    "        \n",
    "        \n",
    "        for frame_num in np.arange(begin_frame, end_frame + 1):\n",
    "            \n",
    "            if frame_num == begin_frame:\n",
    "                if (((begin_frame + 1) * WINDOW_SIZE - 1) - onset_time) > MIN_SAMPLES_PRESENT:\n",
    "                    # помечаем, что данный midi_pitch звучал в рассматриваемом frame'e\n",
    "                    labels[begin_frame][midi_pitch] = 1\n",
    "                    continue\n",
    "            if frame_num == end_frame:\n",
    "                if (offset_time - (end_frame * WINDOW_SIZE)) > MIN_SAMPLES_PRESENT:\n",
    "                    labels[end_frame][midi_pitch] = 1\n",
    "                    continue\n",
    "                    \n",
    "            # если между begin_frame и end_frame есть хотя бы один frame, то очевидно,\n",
    "            # что данный midi_pitch звучал на протяжении всего frame'a\n",
    "            labels[frame_num][midi_pitch] = 1\n",
    "\n",
    "    return labels\n",
    "    "
   ]
  },
  {
   "cell_type": "markdown",
   "metadata": {},
   "source": [
    "### Теперь мы готовы обработать все имеющиеся аудиофайлы, и подготовить data (X) и labels (y) для будущей нейронной сети"
   ]
  },
  {
   "cell_type": "code",
   "execution_count": 10,
   "metadata": {},
   "outputs": [],
   "source": [
    "def preprocess_all_audiofiles(files):\n",
    "    \n",
    "    X = np.array([])\n",
    "    y = np.array([])\n",
    "    num_files = len(files)\n",
    "    \n",
    "    for i in np.arange(len(files)):\n",
    "        \n",
    "        print(\"! {}/{}\".format(i, num_files))\n",
    "        \n",
    "        file_triplet = files[i]\n",
    "        file_data, file_labels = preprocess_audiofile(file_triplet[0], file_triplet[2])\n",
    "        if len(X) == 0 and len(y) == 0: # инициализация\n",
    "            X = file_data\n",
    "            y = file_labels\n",
    "        else:\n",
    "            X = np.concatenate((X, file_data), axis=0)\n",
    "            y = np.concatenate((y, file_labels), axis=0)\n",
    "            \n",
    "        if DEBUG_MODE:\n",
    "            print(\"---- current X shape: {}\".format(X.shape))\n",
    "            print(\"---- current y shape: {}\".format(y.shape))\n",
    "            \n",
    "        # сохраняем обработанные данный на диск, на всякий случай\n",
    "        if i % SAVE_DATA_TO_FILE_PERIOD == 0:\n",
    "            np.save(\"X_data.npy\", X)\n",
    "            np.save(\"y_data.npy\", y)\n",
    "            np.save(\"midi_statistics.npy\", midi_statistics)\n",
    "            # np.load(\"outfile.npy\")\n",
    "        \n",
    "        clear_output()\n",
    "        \n",
    "    print(\"============ OVERALL X shape: {} ============\".format(X.shape))\n",
    "    print(\"============ OVERALL y shape: {} ============\".format(y.shape))\n",
    "\n",
    "    return X, y"
   ]
  },
  {
   "cell_type": "code",
   "execution_count": 11,
   "metadata": {},
   "outputs": [
    {
     "name": "stdout",
     "output_type": "stream",
     "text": [
      "! 1027/29880\n",
      "==== preprocessing file: MAPS/SptkBGAm/UCHO/I32-96/C0-4-7-10-13/MAPS_UCHO_C0-4-7-10-13_I32-96_S0_n2_SptkBGAm.wav ====\n",
      "frames shape: (9, 16384)\n",
      "labels shape: (9, 128)\n"
     ]
    },
    {
     "ename": "KeyboardInterrupt",
     "evalue": "",
     "output_type": "error",
     "traceback": [
      "\u001b[0;31m---------------------------------------------------------------------------\u001b[0m",
      "\u001b[0;31mKeyboardInterrupt\u001b[0m                         Traceback (most recent call last)",
      "\u001b[0;32m<ipython-input-11-2e2740ea08e8>\u001b[0m in \u001b[0;36m<module>\u001b[0;34m()\u001b[0m\n\u001b[0;32m----> 1\u001b[0;31m \u001b[0mX\u001b[0m\u001b[0;34m,\u001b[0m \u001b[0my\u001b[0m \u001b[0;34m=\u001b[0m \u001b[0mpreprocessAllAudiofiles\u001b[0m\u001b[0;34m(\u001b[0m\u001b[0mfiles\u001b[0m\u001b[0;34m)\u001b[0m\u001b[0;34m\u001b[0m\u001b[0m\n\u001b[0m",
      "\u001b[0;32m<ipython-input-10-b963276ccce5>\u001b[0m in \u001b[0;36mpreprocessAllAudiofiles\u001b[0;34m(files)\u001b[0m\n\u001b[1;32m     16\u001b[0m         \u001b[0;32melse\u001b[0m\u001b[0;34m:\u001b[0m\u001b[0;34m\u001b[0m\u001b[0m\n\u001b[1;32m     17\u001b[0m             \u001b[0mX\u001b[0m \u001b[0;34m=\u001b[0m \u001b[0mnp\u001b[0m\u001b[0;34m.\u001b[0m\u001b[0mconcatenate\u001b[0m\u001b[0;34m(\u001b[0m\u001b[0;34m(\u001b[0m\u001b[0mX\u001b[0m\u001b[0;34m,\u001b[0m \u001b[0mfile_data\u001b[0m\u001b[0;34m)\u001b[0m\u001b[0;34m,\u001b[0m \u001b[0maxis\u001b[0m\u001b[0;34m=\u001b[0m\u001b[0;36m0\u001b[0m\u001b[0;34m)\u001b[0m\u001b[0;34m\u001b[0m\u001b[0m\n\u001b[0;32m---> 18\u001b[0;31m             \u001b[0my\u001b[0m \u001b[0;34m=\u001b[0m \u001b[0mnp\u001b[0m\u001b[0;34m.\u001b[0m\u001b[0mconcatenate\u001b[0m\u001b[0;34m(\u001b[0m\u001b[0;34m(\u001b[0m\u001b[0my\u001b[0m\u001b[0;34m,\u001b[0m \u001b[0mfile_labels\u001b[0m\u001b[0;34m)\u001b[0m\u001b[0;34m,\u001b[0m \u001b[0maxis\u001b[0m\u001b[0;34m=\u001b[0m\u001b[0;36m0\u001b[0m\u001b[0;34m)\u001b[0m\u001b[0;34m\u001b[0m\u001b[0m\n\u001b[0m\u001b[1;32m     19\u001b[0m \u001b[0;34m\u001b[0m\u001b[0m\n\u001b[1;32m     20\u001b[0m         \u001b[0;32mif\u001b[0m \u001b[0mDEBUG_MODE\u001b[0m\u001b[0;34m:\u001b[0m\u001b[0;34m\u001b[0m\u001b[0m\n",
      "\u001b[0;31mKeyboardInterrupt\u001b[0m: "
     ]
    }
   ],
   "source": [
    "X, y = preprocess_all_audiofiles(files)"
   ]
  },
  {
   "cell_type": "markdown",
   "metadata": {},
   "source": [
    "В этот момент было решено, что заранее обрабатывать все файлы каждый раз -- мучительно долго. Можно было бы обработать все один раз и записать все на диск. Но по предварительный подсчетам данных получилось бы слишком много, поэтому самым разумным решением было бы обрабатывать файлы и создавать батчи прямо во время обучения."
   ]
  },
  {
   "cell_type": "code",
   "execution_count": 5,
   "metadata": {},
   "outputs": [],
   "source": [
    "X = np.load(\"X_data.npy\")\n",
    "y = np.load(\"y_data.npy\")"
   ]
  },
  {
   "cell_type": "code",
   "execution_count": 6,
   "metadata": {},
   "outputs": [
    {
     "data": {
      "text/plain": [
       "(24355, 128)"
      ]
     },
     "execution_count": 6,
     "metadata": {},
     "output_type": "execute_result"
    }
   ],
   "source": [
    "X.shape\n",
    "y.shape"
   ]
  },
  {
   "cell_type": "code",
   "execution_count": 6,
   "metadata": {},
   "outputs": [],
   "source": [
    "midi_statistics = np.load(\"midi_statistics.npy\")"
   ]
  },
  {
   "cell_type": "code",
   "execution_count": 7,
   "metadata": {},
   "outputs": [
    {
     "data": {
      "image/png": "[encoded data removed]",
      "text/plain": [
       "<matplotlib.figure.Figure at 0x181a1bb5c0>"
      ]
     },
     "metadata": {},
     "output_type": "display_data"
    }
   ],
   "source": [
    "from matplotlib import colors\n",
    "from matplotlib.ticker import PercentFormatter\n",
    "plt.figure(figsize=(20,10))\n",
    "axes = plt.gca()\n",
    "axes.set_xlim([20,110])\n",
    "# axes.set_ylim([ymin,ymax])\n",
    "# N is the count in each bin, bins is the lower-limit of the bin\n",
    "N, bins, patches = plt.hist(np.arange(128), bins=128, weights=midi_statistics)\n",
    "# We'll color code by height, but you could use any scalar\n",
    "fracs = N / N.max()\n",
    "# we need to normalize the data to 0..1 for the full range of the colormap\n",
    "norm = colors.Normalize(fracs.min(), fracs.max())\n",
    "# plt.grid(True)\n",
    "for thisfrac, thispatch in zip(fracs, patches):\n",
    "    color = plt.cm.viridis(norm(thisfrac))\n",
    "    thispatch.set_facecolor(color)\n",
    "\n",
    "axes.set_title('Histogramm of midi pitches', fontdict = {'fontsize': 16})\n",
    "axes.set_xlabel('Midi pitches', fontdict = {'fontsize': 16, 'horizontalalignment': 'right'})\n",
    "# Now we format the y-axis to display percentage\n",
    "axes.yaxis.set_major_formatter(PercentFormatter(xmax=np.sum(midi_statistics)))\n",
    "plt.show()"
   ]
  },
  {
   "cell_type": "markdown",
   "metadata": {},
   "source": [
    "## ITS TENSORFLOW TIME BABY"
   ]
  },
  {
   "cell_type": "markdown",
   "metadata": {},
   "source": [
    "### Прямое дискретное преобразование Фурье\n",
    "$ X_k = \\sum\\limits_{n=0}^{N-1} x_n e^{-\\frac{2 \\pi i}{N} k n} = \\sum\\limits_{n=0}^{N-1} x_n\\cdot [\\cos(2 \\pi k n / N) - i\\cdot \\sin(2 \\pi k n / N)], \\qquad (k = 0, \\dots, N-1). $"
   ]
  },
  {
   "cell_type": "markdown",
   "metadata": {},
   "source": [
    "Given an input tensor of shape [batch, in_height, in_width, in_channels] and a filter / kernel tensor of shape [filter_height, filter_width, in_channels, out_channels], this op performs the following:"
   ]
  },
  {
   "cell_type": "code",
   "execution_count": 7,
   "metadata": {},
   "outputs": [],
   "source": [
    "# Эта модель использует при свертке short-time Fourier transform,\n",
    "# оттого так и называется\n",
    "class STFT():\n",
    "    def __init__(self):\n",
    "        self.learning_rate = tf.placeholder(tf.float32, shape=None, name='learning_rate')\n",
    "        self.stride = 512\n",
    "        self.receptive_field = 4096\n",
    "        self.start_freq = 50\n",
    "        self.end_freq = 6000\n",
    "        self.filters_amount= 512\n",
    "        self.batch_size = 64\n",
    "        \n",
    "        self.frequencies = np.logspace(np.log(self.start_freq),\n",
    "                                       np.log(self.end_freq),\n",
    "                                       self.filters_amount,\n",
    "                                       base=np.e,\n",
    "                                       endpoint=True)\n",
    "        \n",
    "        self.discrete_time = np.arange(self.receptive_field)\n",
    "        \n",
    "        # number of lvl1 features\n",
    "        self.regions = (WINDOW_SIZE - self.receptive_field)/self.stride + 1\n",
    "        \n",
    "        # the shape of wsin and wcos is (1, 4096, 1, 512) for now\n",
    "        self.wsin = np.empty((1, self.receptive_field, 1, self.filters_amount), dtype=np.float32)\n",
    "        self.wcos = np.empty((1, self.receptive_field, 1, self.filters_amount), dtype=np.float32)\n",
    "        self.create_filters()\n",
    "        \n",
    "        # 'ph' stands for 'placeholder'\n",
    "        self.input_X_ph = tf.placeholder('float32', [None, 1, WINDOW_SIZE, 1], name=\"input_X\")\n",
    "        self.input_y_ph = tf.placeholder('float32', [None, MIDI_PITCH_AMOUNT], name=\"input_y\")\n",
    "        self.pred_y_ph = tf.placeholder('float32', [None, MIDI_PITCH_AMOUNT], name=\"pred_y\")\n",
    "\n",
    "        self.wsin_var = tf.constant(value=self.wsin, dtype='float32', name=\"wsin\")\n",
    "        self.wcos_var = tf.constant(value=self.wcos, dtype='float32', name=\"wcos\")\n",
    "\n",
    "        self.loss = None\n",
    "        self.optimizer_step = None\n",
    "                \n",
    "            \n",
    "    def create_filters(self):\n",
    "        for i in np.arange(self.filters_amount):\n",
    "            current_freq = self.frequencies[i]\n",
    "            args = 2 * np.pi * current_freq * self.discrete_time / self.receptive_field\n",
    "            self.wsin[0, :, 0, i] = np.sin(args)\n",
    "            self.wcos[0, :, 0, i] = np.cos(args)      \n",
    "        \n",
    "        \n",
    "    def define_graph(self):\n",
    "        \n",
    "        conv_sin = tf.nn.conv2d(input=self.input_X_ph,\n",
    "                                filter=self.wsin_var,\n",
    "                                strides=[1, 1, self.stride, 1],\n",
    "                                padding=\"VALID\")\n",
    "        conv_cos = tf.nn.conv2d(input=self.input_X_ph,\n",
    "                                filter=self.wcos_var,\n",
    "                                strides=[1, 1, self.stride, 1],\n",
    "                                padding=\"VALID\")\n",
    "        \n",
    "        fourier_values_module_square = tf.square(conv_sin) + tf.square(conv_cos)\n",
    "        \n",
    "        # Output tensor the same shape as inputs except the last dimension is of size units.\n",
    "        dense_layer = tf.layers.Dense(units=MIDI_PITCH_AMOUNT)\n",
    "        \n",
    "        \n",
    "        \n",
    "        self.pred_y_ph = dense_layer(tf.reshape(tf.log(fourier_values_module_square + 10e-12),\n",
    "                                                shape=[self.batch_size, tf.to_int32(self.regions * self.filters_amount)]))\n",
    "        \n",
    "        self.loss = tf.reduce_mean(tf.nn.l2_loss(self.input_y_ph - tf.reshape(self.pred_y_ph, [self.batch_size, MIDI_PITCH_AMOUNT])) / MIDI_PITCH_AMOUNT)\n",
    "        self.optimizer_step = tf.train.AdamOptimizer(learning_rate=self.learning_rate).minimize(self.loss)\n",
    "        \n",
    "        \n",
    "        \n",
    "    def train(self, X, y, sess, lr):\n",
    "        \n",
    "        loss, _ = sess.run([self.loss, self.optimizer_step], feed_dict={self.input_X_ph: X,\n",
    "                                                 self.input_y_ph: y,\n",
    "                                                 self.learning_rate: lr})\n",
    "        return loss\n"
   ]
  },
  {
   "cell_type": "markdown",
   "metadata": {},
   "source": [
    "### Train"
   ]
  },
  {
   "cell_type": "code",
   "execution_count": 15,
   "metadata": {},
   "outputs": [
    {
     "data": {
      "text/plain": [
       "[<tf.Variable 'dense/kernel:0' shape=(12800, 128) dtype=float32_ref>,\n",
       " <tf.Variable 'dense/bias:0' shape=(128,) dtype=float32_ref>]"
      ]
     },
     "execution_count": 15,
     "metadata": {},
     "output_type": "execute_result"
    }
   ],
   "source": [
    "stft = STFT()\n",
    "stft.define_graph()\n",
    "tf.trainable_variables()\n"
   ]
  },
  {
   "cell_type": "code",
   "execution_count": 17,
   "metadata": {},
   "outputs": [],
   "source": [
    "sess = tf.InteractiveSession()\n",
    "\n",
    "# присвоить всем переменным их initial_value\n",
    "sess.run(tf.global_variables_initializer())"
   ]
  },
  {
   "cell_type": "code",
   "execution_count": 18,
   "metadata": {},
   "outputs": [],
   "source": [
    "def get_batches(X, y, batch_size):\n",
    "    n_samples = X.shape[0]\n",
    "    # Shuffle at the start of epoch\n",
    "    indices = np.arange(n_samples)\n",
    "    np.random.shuffle(indices)\n",
    "    \n",
    "    for start in range(0, n_samples, batch_size):\n",
    "        \n",
    "        end = min(start + batch_size, n_samples)\n",
    "        if end == n_samples:\n",
    "            break\n",
    "        batch_idx = indices[start:end]\n",
    "    \n",
    "        yield X[batch_idx], y[batch_idx]"
   ]
  },
  {
   "cell_type": "code",
   "execution_count": 21,
   "metadata": {},
   "outputs": [],
   "source": [
    "loss_history = []"
   ]
  },
  {
   "cell_type": "code",
   "execution_count": 23,
   "metadata": {},
   "outputs": [
    {
     "data": {
      "image/png": "[encoded data removed]",
      "text/plain": [
       "<matplotlib.figure.Figure at 0x18ec4e1c50>"
      ]
     },
     "metadata": {},
     "output_type": "display_data"
    },
    {
     "name": "stdout",
     "output_type": "stream",
     "text": [
      "Current loss: 34.213142\n"
     ]
    }
   ],
   "source": [
    "\n",
    "n_epoch = 10\n",
    "lr = 0.000000001\n",
    "for i in range(n_epoch):\n",
    "    epoch_loss = []\n",
    "    for x_batch, y_batch in get_batches(X, y, stft.batch_size):\n",
    "        x_batch = np.reshape(x_batch, (stft.batch_size, 1, WINDOW_SIZE, 1))\n",
    "        loss = stft.train(x_batch, y_batch, sess, lr)\n",
    "        epoch_loss.append(loss)\n",
    "    \n",
    "    loss = np.mean(epoch_loss)\n",
    "    loss_history.append(loss)\n",
    "    clear_output(wait=True)\n",
    "    plt.figure(figsize=(8, 6))\n",
    "        \n",
    "    plt.title(\"Training loss\")\n",
    "    plt.xlabel(\"#iteration\")\n",
    "    plt.ylabel(\"loss\")\n",
    "    plt.yscale(\"log\")\n",
    "    plt.plot(loss_history, 'b')\n",
    "    plt.show()\n",
    "    \n",
    "    print('Current loss: %f' % loss)"
   ]
  },
  {
   "cell_type": "code",
   "execution_count": 13,
   "metadata": {},
   "outputs": [],
   "source": [
    "tf.reset_default_graph()"
   ]
  },
  {
   "cell_type": "code",
   "execution_count": 14,
   "metadata": {},
   "outputs": [
    {
     "data": {
      "text/plain": [
       "[]"
      ]
     },
     "execution_count": 14,
     "metadata": {},
     "output_type": "execute_result"
    }
   ],
   "source": [
    "tf.trainable_variables()"
   ]
  },
  {
   "cell_type": "code",
   "execution_count": 16,
   "metadata": {},
   "outputs": [],
   "source": [
    "sess.close()"
   ]
  },
  {
   "cell_type": "code",
   "execution_count": null,
   "metadata": {},
   "outputs": [],
   "source": []
  }
 ],
 "metadata": {
  "kernelspec": {
   "display_name": "Python 3",
   "language": "python",
   "name": "python3"
  },
  "language_info": {
   "codemirror_mode": {
    "name": "ipython",
    "version": 3
   },
   "file_extension": ".py",
   "mimetype": "text/x-python",
   "name": "python",
   "nbconvert_exporter": "python",
   "pygments_lexer": "ipython3",
   "version": "3.6.4"
  }
 },
 "nbformat": 4,
 "nbformat_minor": 2
}
