{
 "cells": [
  {
   "cell_type": "markdown",
   "metadata": {},
   "source": [
    "Возможные способы считывать аудио-файлы с помощью питона:\n",
    "\n",
    "https://stackoverflow.com/questions/2060628/reading-wav-files-in-python\n",
    "\n",
    "Stereo to Mono:\n",
    "\n",
    "https://stackoverflow.com/questions/43056088/stereo-to-mono-wave-interpolation-in-python\n",
    "https://stackoverflow.com/questions/30401042/stereo-to-mono-wav-in-python\n",
    "\n",
    "Про считывание и записывание wave-файлов:\n",
    "\n",
    "http://www.labbookpages.co.uk/audio/wavFiles.html\n",
    "\n",
    "https://github.com/mbereket/music-transcription\n",
    "\n",
    "\n",
    "Why is Fourier Transform so important?\n",
    "\n",
    "https://dsp.stackexchange.com/questions/69/why-is-the-fourier-transform-so-important\n",
    "\n",
    "Полезная презентация:\n",
    "\n",
    "http://www.machinelearning.ru/wiki/images/c/cf/NizhibitskyMusicSlides.pdf\n"
   ]
  },
  {
   "cell_type": "markdown",
   "metadata": {},
   "source": [
    "https://ru.wikipedia.org/wiki/Импульсно-кодовая_модуляция"
   ]
  },
  {
   "cell_type": "markdown",
   "metadata": {},
   "source": [
    "## Data preparing \n",
    "### specifically for MAPS dataset"
   ]
  },
  {
   "cell_type": "code",
   "execution_count": 1,
   "metadata": {},
   "outputs": [],
   "source": [
    "import soundfile as sf\n",
    "import numpy as np\n",
    "import os\n",
    "import pandas as pd\n",
    "# pd.set_option('display.max_rows', 20)"
   ]
  },
  {
   "cell_type": "code",
   "execution_count": 2,
   "metadata": {},
   "outputs": [],
   "source": [
    "example_path = 'MAPS/AkPnStgb/MUS/MAPS_MUS-alb_esp2_AkPnStgb.wav'"
   ]
  },
  {
   "cell_type": "code",
   "execution_count": 3,
   "metadata": {},
   "outputs": [],
   "source": [
    "data, samplerate = sf.read(example_path)"
   ]
  },
  {
   "cell_type": "code",
   "execution_count": 4,
   "metadata": {},
   "outputs": [
    {
     "data": {
      "text/plain": [
       "(5620807, 2)"
      ]
     },
     "execution_count": 4,
     "metadata": {},
     "output_type": "execute_result"
    }
   ],
   "source": [
    "data.shape"
   ]
  },
  {
   "cell_type": "code",
   "execution_count": 5,
   "metadata": {},
   "outputs": [],
   "source": [
    "REL_PATH = 'MAPS/'"
   ]
  },
  {
   "cell_type": "code",
   "execution_count": 6,
   "metadata": {},
   "outputs": [],
   "source": [
    "# checks if the files in the given triplet exists at all\n",
    "def checkFileTripletValid(triplet):\n",
    "    for filename in triplet:\n",
    "        if os.path.isfile(filename):\n",
    "            continue\n",
    "        else:\n",
    "            raise Exception(\"The given file doesn't exist\")\n",
    "    return True"
   ]
  },
  {
   "cell_type": "code",
   "execution_count": 7,
   "metadata": {},
   "outputs": [],
   "source": [
    "files = []\n",
    "\n",
    "for f in os.scandir(REL_PATH):\n",
    "    if f.is_dir():\n",
    "        for (dirpath, dirnames, filenames) in os.walk(f.path):\n",
    "            for file in filenames:\n",
    "                if file.endswith(\".wav\"):\n",
    "                    fullpath = dirpath + '/' + file # forms the path to the file\n",
    "                    base = os.path.splitext(fullpath)[0] # gets the path to the file without its extention\n",
    "                    triplet = [base + '.wav', base + '.mid', base + '.txt'] # forms the triplet of files: .wav, .mid, .txt\n",
    "                    if checkFileTripletValid(triplet):\n",
    "                        files.append(triplet)\n"
   ]
  },
  {
   "cell_type": "code",
   "execution_count": 8,
   "metadata": {},
   "outputs": [
    {
     "data": {
      "text/plain": [
       "29880"
      ]
     },
     "execution_count": 8,
     "metadata": {},
     "output_type": "execute_result"
    }
   ],
   "source": [
    "len(files)"
   ]
  },
  {
   "cell_type": "code",
   "execution_count": 15,
   "metadata": {},
   "outputs": [],
   "source": [
    "# transforms only 2-channel audiofile, others leaves untouched\n",
    "def makeMonoAudiofile(data):\n",
    "    if data.shape[1] == 2:\n",
    "        data = (data[:, 0] + data[:,1]) / 2\n",
    "    \n",
    "def translateTimeToSampleNum(data):\n",
    "    data[\"OnsetTime\"] = np.round(data.values[:, 0] * SAMPLERATE).astype(int)\n",
    "    data[\"OffsetTime\"] = np.round(data.values[:, 1] * SAMPLERATE).astype(int)"
   ]
  },
  {
   "cell_type": "markdown",
   "metadata": {},
   "source": [
    "A sample is the smallest usable quantum of digital audio. The term frame isn't formally defined in pure audio terms, but is often used in relation to video that may accompany an audio track. In that context a frame is the quantity of audio samples taken during a video frame interval."
   ]
  },
  {
   "cell_type": "code",
   "execution_count": 10,
   "metadata": {},
   "outputs": [],
   "source": [
    "FRAME_SIZE = 16384 # samples per frame\n",
    "SAMPLERATE = 44100\n",
    "\n",
    "# returns frames (numpy.ndarray of the shape (FRAME_SIZE, )) and labels for an audiofile\n",
    "def preprocessAudiofile(path):\n",
    "    \n",
    "    # data (numpy.ndarray) – a two-dimensional NumPy array is returned,\n",
    "    # where the channels are stored along the first dimension, i.e. as columns. \n",
    "    data, samplerate = sf.read(path)\n",
    "    assert(samplerate==SAMPLERATE)\n",
    "    makeMonoAudiofile(data)\n",
    "    translateTimeToSampleNum(data)\n",
    "    \n",
    "    chunks_amount = len(data) // FRAME_SIZE\n",
    "    samples_amount = FRAME_SIZE * chunks_amount\n",
    "    # отбрасываем конец аудиофайла, если количество\n",
    "    # сэмплов в нем НЕ делится ровно на FRAME_SIZE\n",
    "    data = data[:samples_amount] \n",
    "    \n",
    "    # делим data на одинаковые chunks_amount, если длина data\n",
    "    # НЕ делится ровно на chunks_amount, то np.split должен будет выбросить exception\n",
    "    frames = np.split(data, chunks_amount)\n",
    "    \n",
    "    \n",
    "    return frames\n",
    "    "
   ]
  },
  {
   "cell_type": "code",
   "execution_count": null,
   "metadata": {},
   "outputs": [],
   "source": [
    "def get_label_for_"
   ]
  },
  {
   "cell_type": "code",
   "execution_count": 14,
   "metadata": {},
   "outputs": [
    {
     "data": {
      "text/plain": [
       "0.00384521484375"
      ]
     },
     "execution_count": 14,
     "metadata": {},
     "output_type": "execute_result"
    }
   ],
   "source": [
    "frames = preprocessAudiofile(example_path)\n",
    "frames[1][16383]"
   ]
  },
  {
   "cell_type": "markdown",
   "metadata": {},
   "source": [
    "According to my copy of the absolutely essential (!) Master Handbook of Acoustics, to hear shorter tones, that is sounds with a short impulse, they need to be louder:\n",
    "\n",
    "A 1,000-Hz tone sounds like 1,000 Hz in a 1-second tone burst, but an extremely short burst sounds like a click. The duration of such a burst also influences the perceived loudness. Short bursts do not sound as loud as longer ones... A pulse 3 milliseconds long must have a level about 15dB higher to sound as loud as a 0.5-second (500 millisecond) pulse. Tones and random noise follow roughly the same relationship in loudness vs. pulse length.\n",
    "\n",
    "The 100-msec region is significant... Only when the tones or noise bursts are shorter than this amount must the sound-pressure level be increased to produce a loudness equal to that of long pulses or steady tones or noise. This 100 msec appears to be the integrating time or the time constant of the human ear. (Everest 2001, 60-61)"
   ]
  },
  {
   "cell_type": "code",
   "execution_count": 152,
   "metadata": {},
   "outputs": [
    {
     "data": {
      "text/html": [
       "<div>\n",
       "<style scoped>\n",
       "    .dataframe tbody tr th:only-of-type {\n",
       "        vertical-align: middle;\n",
       "    }\n",
       "\n",
       "    .dataframe tbody tr th {\n",
       "        vertical-align: top;\n",
       "    }\n",
       "\n",
       "    .dataframe thead th {\n",
       "        text-align: right;\n",
       "    }\n",
       "</style>\n",
       "<table border=\"1\" class=\"dataframe\">\n",
       "  <thead>\n",
       "    <tr style=\"text-align: right;\">\n",
       "      <th></th>\n",
       "      <th>OnsetTime</th>\n",
       "      <th>OffsetTime</th>\n",
       "      <th>MidiPitch</th>\n",
       "    </tr>\n",
       "  </thead>\n",
       "  <tbody>\n",
       "    <tr>\n",
       "      <th>0</th>\n",
       "      <td>0.500004</td>\n",
       "      <td>2.45304</td>\n",
       "      <td>38</td>\n",
       "    </tr>\n",
       "    <tr>\n",
       "      <th>1</th>\n",
       "      <td>0.500004</td>\n",
       "      <td>2.45304</td>\n",
       "      <td>50</td>\n",
       "    </tr>\n",
       "    <tr>\n",
       "      <th>2</th>\n",
       "      <td>1.218850</td>\n",
       "      <td>2.45304</td>\n",
       "      <td>57</td>\n",
       "    </tr>\n",
       "    <tr>\n",
       "      <th>3</th>\n",
       "      <td>1.452060</td>\n",
       "      <td>2.45304</td>\n",
       "      <td>69</td>\n",
       "    </tr>\n",
       "    <tr>\n",
       "      <th>4</th>\n",
       "      <td>1.452060</td>\n",
       "      <td>2.45304</td>\n",
       "      <td>66</td>\n",
       "    </tr>\n",
       "    <tr>\n",
       "      <th>5</th>\n",
       "      <td>1.452060</td>\n",
       "      <td>2.45304</td>\n",
       "      <td>62</td>\n",
       "    </tr>\n",
       "    <tr>\n",
       "      <th>6</th>\n",
       "      <td>1.918480</td>\n",
       "      <td>2.45304</td>\n",
       "      <td>33</td>\n",
       "    </tr>\n",
       "    <tr>\n",
       "      <th>7</th>\n",
       "      <td>1.918480</td>\n",
       "      <td>2.45304</td>\n",
       "      <td>45</td>\n",
       "    </tr>\n",
       "    <tr>\n",
       "      <th>8</th>\n",
       "      <td>2.453040</td>\n",
       "      <td>4.16954</td>\n",
       "      <td>38</td>\n",
       "    </tr>\n",
       "    <tr>\n",
       "      <th>9</th>\n",
       "      <td>2.453040</td>\n",
       "      <td>4.16954</td>\n",
       "      <td>50</td>\n",
       "    </tr>\n",
       "    <tr>\n",
       "      <th>...</th>\n",
       "      <td>...</td>\n",
       "      <td>...</td>\n",
       "      <td>...</td>\n",
       "    </tr>\n",
       "    <tr>\n",
       "      <th>669</th>\n",
       "      <td>120.607000</td>\n",
       "      <td>123.03200</td>\n",
       "      <td>62</td>\n",
       "    </tr>\n",
       "    <tr>\n",
       "      <th>670</th>\n",
       "      <td>120.607000</td>\n",
       "      <td>124.85000</td>\n",
       "      <td>38</td>\n",
       "    </tr>\n",
       "    <tr>\n",
       "      <th>671</th>\n",
       "      <td>120.607000</td>\n",
       "      <td>124.85000</td>\n",
       "      <td>45</td>\n",
       "    </tr>\n",
       "    <tr>\n",
       "      <th>672</th>\n",
       "      <td>120.607000</td>\n",
       "      <td>124.85000</td>\n",
       "      <td>50</td>\n",
       "    </tr>\n",
       "    <tr>\n",
       "      <th>673</th>\n",
       "      <td>123.032000</td>\n",
       "      <td>125.45600</td>\n",
       "      <td>86</td>\n",
       "    </tr>\n",
       "    <tr>\n",
       "      <th>674</th>\n",
       "      <td>123.032000</td>\n",
       "      <td>125.45600</td>\n",
       "      <td>81</td>\n",
       "    </tr>\n",
       "    <tr>\n",
       "      <th>675</th>\n",
       "      <td>123.032000</td>\n",
       "      <td>125.45600</td>\n",
       "      <td>74</td>\n",
       "    </tr>\n",
       "    <tr>\n",
       "      <th>676</th>\n",
       "      <td>123.032000</td>\n",
       "      <td>125.45600</td>\n",
       "      <td>62</td>\n",
       "    </tr>\n",
       "    <tr>\n",
       "      <th>677</th>\n",
       "      <td>123.032000</td>\n",
       "      <td>125.45600</td>\n",
       "      <td>69</td>\n",
       "    </tr>\n",
       "    <tr>\n",
       "      <th>678</th>\n",
       "      <td>123.032000</td>\n",
       "      <td>125.45600</td>\n",
       "      <td>78</td>\n",
       "    </tr>\n",
       "  </tbody>\n",
       "</table>\n",
       "<p>679 rows × 3 columns</p>\n",
       "</div>"
      ],
      "text/plain": [
       "      OnsetTime  OffsetTime  MidiPitch\n",
       "0      0.500004     2.45304         38\n",
       "1      0.500004     2.45304         50\n",
       "2      1.218850     2.45304         57\n",
       "3      1.452060     2.45304         69\n",
       "4      1.452060     2.45304         66\n",
       "5      1.452060     2.45304         62\n",
       "6      1.918480     2.45304         33\n",
       "7      1.918480     2.45304         45\n",
       "8      2.453040     4.16954         38\n",
       "9      2.453040     4.16954         50\n",
       "..          ...         ...        ...\n",
       "669  120.607000   123.03200         62\n",
       "670  120.607000   124.85000         38\n",
       "671  120.607000   124.85000         45\n",
       "672  120.607000   124.85000         50\n",
       "673  123.032000   125.45600         86\n",
       "674  123.032000   125.45600         81\n",
       "675  123.032000   125.45600         74\n",
       "676  123.032000   125.45600         62\n",
       "677  123.032000   125.45600         69\n",
       "678  123.032000   125.45600         78\n",
       "\n",
       "[679 rows x 3 columns]"
      ]
     },
     "execution_count": 152,
     "metadata": {},
     "output_type": "execute_result"
    }
   ],
   "source": [
    "data = pd.read_csv('MAPS/AkPnStgb/MUS/MAPS_MUS-alb_esp2_AkPnStgb.txt', sep=\"\\t\", header=0)\n",
    "data"
   ]
  },
  {
   "cell_type": "code",
   "execution_count": 165,
   "metadata": {},
   "outputs": [],
   "source": [
    "data[\"OnsetTime\"] = np.round(data.values[:, 0] * SAMPLERATE).astype(int)\n",
    "data[\"OffsetTime\"] = np.round(data.values[:, 1] * SAMPLERATE).astype(int)"
   ]
  },
  {
   "cell_type": "code",
   "execution_count": 168,
   "metadata": {},
   "outputs": [
    {
     "data": {
      "text/html": [
       "<div>\n",
       "<style scoped>\n",
       "    .dataframe tbody tr th:only-of-type {\n",
       "        vertical-align: middle;\n",
       "    }\n",
       "\n",
       "    .dataframe tbody tr th {\n",
       "        vertical-align: top;\n",
       "    }\n",
       "\n",
       "    .dataframe thead th {\n",
       "        text-align: right;\n",
       "    }\n",
       "</style>\n",
       "<table border=\"1\" class=\"dataframe\">\n",
       "  <thead>\n",
       "    <tr style=\"text-align: right;\">\n",
       "      <th></th>\n",
       "      <th>OnsetTime</th>\n",
       "      <th>OffsetTime</th>\n",
       "      <th>MidiPitch</th>\n",
       "    </tr>\n",
       "  </thead>\n",
       "  <tbody>\n",
       "    <tr>\n",
       "      <th>0</th>\n",
       "      <td>22050</td>\n",
       "      <td>108179</td>\n",
       "      <td>38</td>\n",
       "    </tr>\n",
       "    <tr>\n",
       "      <th>1</th>\n",
       "      <td>22050</td>\n",
       "      <td>108179</td>\n",
       "      <td>50</td>\n",
       "    </tr>\n",
       "    <tr>\n",
       "      <th>2</th>\n",
       "      <td>53751</td>\n",
       "      <td>108179</td>\n",
       "      <td>57</td>\n",
       "    </tr>\n",
       "    <tr>\n",
       "      <th>3</th>\n",
       "      <td>64036</td>\n",
       "      <td>108179</td>\n",
       "      <td>69</td>\n",
       "    </tr>\n",
       "    <tr>\n",
       "      <th>4</th>\n",
       "      <td>64036</td>\n",
       "      <td>108179</td>\n",
       "      <td>66</td>\n",
       "    </tr>\n",
       "    <tr>\n",
       "      <th>5</th>\n",
       "      <td>64036</td>\n",
       "      <td>108179</td>\n",
       "      <td>62</td>\n",
       "    </tr>\n",
       "    <tr>\n",
       "      <th>6</th>\n",
       "      <td>84605</td>\n",
       "      <td>108179</td>\n",
       "      <td>33</td>\n",
       "    </tr>\n",
       "    <tr>\n",
       "      <th>7</th>\n",
       "      <td>84605</td>\n",
       "      <td>108179</td>\n",
       "      <td>45</td>\n",
       "    </tr>\n",
       "    <tr>\n",
       "      <th>8</th>\n",
       "      <td>108179</td>\n",
       "      <td>183877</td>\n",
       "      <td>38</td>\n",
       "    </tr>\n",
       "    <tr>\n",
       "      <th>9</th>\n",
       "      <td>108179</td>\n",
       "      <td>183877</td>\n",
       "      <td>50</td>\n",
       "    </tr>\n",
       "    <tr>\n",
       "      <th>...</th>\n",
       "      <td>...</td>\n",
       "      <td>...</td>\n",
       "      <td>...</td>\n",
       "    </tr>\n",
       "    <tr>\n",
       "      <th>669</th>\n",
       "      <td>5318769</td>\n",
       "      <td>5425711</td>\n",
       "      <td>62</td>\n",
       "    </tr>\n",
       "    <tr>\n",
       "      <th>670</th>\n",
       "      <td>5318769</td>\n",
       "      <td>5505885</td>\n",
       "      <td>38</td>\n",
       "    </tr>\n",
       "    <tr>\n",
       "      <th>671</th>\n",
       "      <td>5318769</td>\n",
       "      <td>5505885</td>\n",
       "      <td>45</td>\n",
       "    </tr>\n",
       "    <tr>\n",
       "      <th>672</th>\n",
       "      <td>5318769</td>\n",
       "      <td>5505885</td>\n",
       "      <td>50</td>\n",
       "    </tr>\n",
       "    <tr>\n",
       "      <th>673</th>\n",
       "      <td>5425711</td>\n",
       "      <td>5532610</td>\n",
       "      <td>86</td>\n",
       "    </tr>\n",
       "    <tr>\n",
       "      <th>674</th>\n",
       "      <td>5425711</td>\n",
       "      <td>5532610</td>\n",
       "      <td>81</td>\n",
       "    </tr>\n",
       "    <tr>\n",
       "      <th>675</th>\n",
       "      <td>5425711</td>\n",
       "      <td>5532610</td>\n",
       "      <td>74</td>\n",
       "    </tr>\n",
       "    <tr>\n",
       "      <th>676</th>\n",
       "      <td>5425711</td>\n",
       "      <td>5532610</td>\n",
       "      <td>62</td>\n",
       "    </tr>\n",
       "    <tr>\n",
       "      <th>677</th>\n",
       "      <td>5425711</td>\n",
       "      <td>5532610</td>\n",
       "      <td>69</td>\n",
       "    </tr>\n",
       "    <tr>\n",
       "      <th>678</th>\n",
       "      <td>5425711</td>\n",
       "      <td>5532610</td>\n",
       "      <td>78</td>\n",
       "    </tr>\n",
       "  </tbody>\n",
       "</table>\n",
       "<p>679 rows × 3 columns</p>\n",
       "</div>"
      ],
      "text/plain": [
       "     OnsetTime  OffsetTime  MidiPitch\n",
       "0        22050      108179         38\n",
       "1        22050      108179         50\n",
       "2        53751      108179         57\n",
       "3        64036      108179         69\n",
       "4        64036      108179         66\n",
       "5        64036      108179         62\n",
       "6        84605      108179         33\n",
       "7        84605      108179         45\n",
       "8       108179      183877         38\n",
       "9       108179      183877         50\n",
       "..         ...         ...        ...\n",
       "669    5318769     5425711         62\n",
       "670    5318769     5505885         38\n",
       "671    5318769     5505885         45\n",
       "672    5318769     5505885         50\n",
       "673    5425711     5532610         86\n",
       "674    5425711     5532610         81\n",
       "675    5425711     5532610         74\n",
       "676    5425711     5532610         62\n",
       "677    5425711     5532610         69\n",
       "678    5425711     5532610         78\n",
       "\n",
       "[679 rows x 3 columns]"
      ]
     },
     "execution_count": 168,
     "metadata": {},
     "output_type": "execute_result"
    }
   ],
   "source": [
    "data"
   ]
  },
  {
   "cell_type": "code",
   "execution_count": null,
   "metadata": {},
   "outputs": [],
   "source": []
  },
  {
   "cell_type": "code",
   "execution_count": null,
   "metadata": {},
   "outputs": [],
   "source": []
  },
  {
   "cell_type": "code",
   "execution_count": null,
   "metadata": {},
   "outputs": [],
   "source": []
  }
 ],
 "metadata": {
  "kernelspec": {
   "display_name": "Python 3",
   "language": "python",
   "name": "python3"
  },
  "language_info": {
   "codemirror_mode": {
    "name": "ipython",
    "version": 3
   },
   "file_extension": ".py",
   "mimetype": "text/x-python",
   "name": "python",
   "nbconvert_exporter": "python",
   "pygments_lexer": "ipython3",
   "version": "3.6.4"
  }
 },
 "nbformat": 4,
 "nbformat_minor": 2
}
