{
  "nbformat": 4,
  "nbformat_minor": 0,
  "metadata": {
    "colab": {
      "name": "music_transcription_collab.ipynb",
      "version": "0.3.2",
      "provenance": [],
      "collapsed_sections": [
        "mjWoUnZNUtdJ",
        "OwUQS4gwq_zz",
        "PyZXqbT667k_",
        "2nrPdYPd67lY",
        "8ihWbGCq67le",
        "1ZFoYGGZH6Ut",
        "o9NbSShIgzOX"
      ],
      "include_colab_link": true
    },
    "kernelspec": {
      "display_name": "Python 3",
      "language": "python",
      "name": "python3"
    }
  },
  "cells": [
    {
      "cell_type": "markdown",
      "metadata": {
        "id": "view-in-github",
        "colab_type": "text"
      },
      "source": [
        "<a href=\"https://colab.research.google.com/github/bedrokonya/music_transcription/blob/master/music_transcription_collab.ipynb\" target=\"_parent\"><img src=\"https://colab.research.google.com/assets/colab-badge.svg\" alt=\"Open In Colab\"/></a>"
      ]
    },
    {
      "metadata": {
        "id": "JAVVSZQX67k7",
        "colab_type": "text"
      },
      "cell_type": "markdown",
      "source": [
        "Возможные способы считывать аудио-файлы с помощью питона:\n",
        "\n",
        "https://stackoverflow.com/questions/2060628/reading-wav-files-in-python\n",
        "\n",
        "Stereo to Mono:\n",
        "\n",
        "https://stackoverflow.com/questions/43056088/stereo-to-mono-wave-interpolation-in-python\n",
        "https://stackoverflow.com/questions/30401042/stereo-to-mono-wav-in-python\n",
        "\n",
        "Про считывание и записывание wave-файлов:\n",
        "\n",
        "http://www.labbookpages.co.uk/audio/wavFiles.html\n",
        "\n",
        "https://github.com/mbereket/music-transcription\n",
        "\n",
        "\n",
        "Why is Fourier Transform so important?\n",
        "\n",
        "https://dsp.stackexchange.com/questions/69/why-is-the-fourier-transform-so-important\n",
        "\n",
        "Полезная презентация:\n",
        "\n",
        "http://www.machinelearning.ru/wiki/images/c/cf/NizhibitskyMusicSlides.pdf\n"
      ]
    },
    {
      "metadata": {
        "id": "qnnIJJTQ67k9",
        "colab_type": "text"
      },
      "cell_type": "markdown",
      "source": [
        "https://ru.wikipedia.org/wiki/Импульсно-кодовая_модуляция"
      ]
    },
    {
      "metadata": {
        "id": "dqUGQUOGKwzo",
        "colab_type": "text"
      },
      "cell_type": "markdown",
      "source": [
        "Гад по local runtimes: https://research.google.com/colaboratory/local-runtimes.html\n",
        "\n",
        "команда: jupyter notebook --NotebookApp.allow_origin='https://colab.research.google.com' --port=8888 --no-browser"
      ]
    },
    {
      "metadata": {
        "id": "3QoI-3kyyoK6",
        "colab_type": "text"
      },
      "cell_type": "markdown",
      "source": [
        "An official example notebook demonstrating local file upload/download and integration with Drive and sheets is available here:\n",
        "https://colab.research.google.com/notebooks/io.ipynb"
      ]
    },
    {
      "metadata": {
        "id": "kehU_DRrUpXu",
        "colab_type": "text"
      },
      "cell_type": "markdown",
      "source": [
        "## IMPORTS"
      ]
    },
    {
      "metadata": {
        "id": "suwsfbe09JvA",
        "colab_type": "code",
        "outputId": "542b454e-955b-48f5-8e9e-0689cebbe7fc",
        "colab": {
          "base_uri": "https://localhost:8080/",
          "height": 119
        }
      },
      "cell_type": "code",
      "source": [
        "! pip install soundfile\n"
      ],
      "execution_count": 5,
      "outputs": [
        {
          "output_type": "stream",
          "text": [
            "Collecting soundfile\n",
            "  Downloading https://files.pythonhosted.org/packages/68/64/1191352221e2ec90db7492b4bf0c04fd9d2508de67b3f39cbf093cd6bd86/SoundFile-0.10.2-py2.py3-none-any.whl\n",
            "Requirement already satisfied: cffi>=1.0 in /usr/local/lib/python3.6/dist-packages (from soundfile) (1.12.2)\n",
            "Requirement already satisfied: pycparser in /usr/local/lib/python3.6/dist-packages (from cffi>=1.0->soundfile) (2.19)\n",
            "Installing collected packages: soundfile\n",
            "Successfully installed soundfile-0.10.2\n"
          ],
          "name": "stdout"
        }
      ]
    },
    {
      "metadata": {
        "id": "Ky1DknkIUrWG",
        "colab_type": "code",
        "colab": {
          "base_uri": "https://localhost:8080/",
          "height": 34
        },
        "outputId": "dad7dd79-eff6-44e8-cd1b-f7b4819bf566"
      },
      "cell_type": "code",
      "source": [
        "import soundfile as sf\n",
        "import numpy as np\n",
        "import os\n",
        "import pandas as pd\n",
        "from tqdm import tqdm\n",
        "from IPython.display import clear_output\n",
        "from tempfile import TemporaryFile\n",
        "import tensorflow as tf\n",
        "import matplotlib.pyplot as plt\n",
        "import matplotlib.mlab as mlab\n",
        "import time\n",
        "from matplotlib import colors\n",
        "from matplotlib.ticker import PercentFormatter\n",
        "from sklearn.model_selection import train_test_split\n",
        "from sklearn.metrics import accuracy_score\n",
        "from tensorflow.metrics import accuracy\n",
        "import keras.backend as K\n",
        "\n",
        "\n",
        "# pd.set_option('display.max_rows', 30)\n",
        "# pd.set_option('display.max_columns', 30)"
      ],
      "execution_count": 267,
      "outputs": [
        {
          "output_type": "stream",
          "text": [
            "Using TensorFlow backend.\n"
          ],
          "name": "stderr"
        }
      ]
    },
    {
      "metadata": {
        "id": "mjWoUnZNUtdJ",
        "colab_type": "text"
      },
      "cell_type": "markdown",
      "source": [
        "## Launching from Goggle Collab"
      ]
    },
    {
      "metadata": {
        "id": "DUGGy5JjUxU6",
        "colab_type": "code",
        "colab": {
          "base_uri": "https://localhost:8080/",
          "height": 34
        },
        "outputId": "ea75df38-de85-4288-b631-a4f587042a40"
      },
      "cell_type": "code",
      "source": [
        "from google.colab import drive\n",
        "drive.mount('/content/gdrive')\n",
        "# for google collab\n",
        "os.chdir('/content/gdrive/My Drive/music_transcription')"
      ],
      "execution_count": 28,
      "outputs": [
        {
          "output_type": "stream",
          "text": [
            "Drive already mounted at /content/gdrive; to attempt to forcibly remount, call drive.mount(\"/content/gdrive\", force_remount=True).\n"
          ],
          "name": "stdout"
        }
      ]
    },
    {
      "metadata": {
        "id": "859zCBVNUyty",
        "colab_type": "code",
        "colab": {
          "base_uri": "https://localhost:8080/",
          "height": 68
        },
        "outputId": "94fe7923-06bc-4a85-df55-bd80de458756"
      },
      "cell_type": "code",
      "source": [
        "! ls"
      ],
      "execution_count": 29,
      "outputs": [
        {
          "output_type": "stream",
          "text": [
            "ENSTDkCl\t\t   test.npy\t    X_rand_data.npy  y_mus_data.npy\n",
            "midi_statistics.npy\t   X_isol_data.npy  X_ucho_data.npy  y_rand_data.npy\n",
            "music_transcription.ipynb  X_mus_data.npy   y_isol_data.npy  y_ucho_data.npy\n"
          ],
          "name": "stdout"
        }
      ]
    },
    {
      "metadata": {
        "id": "OwUQS4gwq_zz",
        "colab_type": "text"
      },
      "cell_type": "markdown",
      "source": [
        "## Config"
      ]
    },
    {
      "metadata": {
        "id": "BEv6dv6CrEeX",
        "colab_type": "code",
        "colab": {}
      },
      "cell_type": "code",
      "source": [
        "WINDOW_SIZE = 16384 # samples per frame\n",
        "SAMPLERATE = 44100 # samples per sec\n",
        "MIDI_PITCH_AMOUNT = 128\n",
        "DEBUG_MODE = True\n",
        "SAVE_DATA_TO_FILE_PERIOD = 50\n",
        "\n",
        "# считаем, что нота прозвучала во время фрейма, только если количество \n",
        "# семплов проигрывающих данную ноту в этой фрейме превышает MIN_SAMPLES_PRESENT\n",
        "MIN_SAMPLES_PRESENT = 0.1 * SAMPLERATE / 2\n",
        "\n",
        "midi_statistics = np.zeros(MIDI_PITCH_AMOUNT)"
      ],
      "execution_count": 0,
      "outputs": []
    },
    {
      "metadata": {
        "id": "PyZXqbT667k_",
        "colab_type": "text"
      },
      "cell_type": "markdown",
      "source": [
        "## Data preparing \n",
        "### specifically for MAPS dataset"
      ]
    },
    {
      "metadata": {
        "id": "kdnZg2zn67lG",
        "colab_type": "code",
        "colab": {}
      },
      "cell_type": "code",
      "source": [
        "example_wav_path = 'MAPS/AkPnStgb/MUS/MAPS_MUS-alb_esp2_AkPnStgb.wav'\n",
        "example_txt_path = 'MAPS/AkPnStgb/MUS/MAPS_MUS-alb_esp2_AkPnStgb.txt'\n",
        "REL_PATHS = ['ENSTDkCl/ISOL', 'ENSTDkCl/RAND','ENSTDkCl/UCHO', 'ENSTDkCl/MUS']"
      ],
      "execution_count": 0,
      "outputs": []
    },
    {
      "metadata": {
        "id": "g1mr9Gx067lK",
        "colab_type": "code",
        "colab": {}
      },
      "cell_type": "code",
      "source": [
        "# checks if the files in the given triplet exists at all\n",
        "def check_file_triplet_valid(triplet):\n",
        "    for filename in triplet:\n",
        "        if os.path.isfile(filename):\n",
        "            continue\n",
        "        else:\n",
        "            raise Exception(\"The given file doesn't exist\")\n",
        "    return True"
      ],
      "execution_count": 0,
      "outputs": []
    },
    {
      "metadata": {
        "id": "4DdaNvDB67lN",
        "colab_type": "code",
        "colab": {}
      },
      "cell_type": "code",
      "source": [
        "def collect_files_from_directory(directory_path):\n",
        "  \n",
        "    collected_files = []\n",
        "    \n",
        "    for f in os.scandir(directory_path):\n",
        "      \n",
        "        if f.is_dir():\n",
        "            for (dirpath, dirnames, filenames) in os.walk(f.path):\n",
        "                for file in filenames:\n",
        "                    if file.endswith(\".wav\"):\n",
        "                        fullpath = dirpath + '/' + file # forms the path to the file\n",
        "                        base = os.path.splitext(fullpath)[0] # gets the path to the file without its extention\n",
        "                        triplet = [base + '.wav', base + '.mid', base + '.txt'] # forms the triplet of files: .wav, .mid, .txt\n",
        "                        if check_file_triplet_valid(triplet):\n",
        "                            collected_files.append(triplet)\n",
        "                            \n",
        "        elif f.is_file():\n",
        "            if f.name.endswith(\".wav\"):\n",
        "                fullpath = directory_path + '/' + f.name\n",
        "                base = os.path.splitext(fullpath)[0]\n",
        "                triplet = [base + '.wav', base + '.mid', base + '.txt']\n",
        "                if check_file_triplet_valid(triplet):\n",
        "                    collected_files.append(triplet)\n",
        "                      \n",
        "    return np.array(collected_files)\n"
      ],
      "execution_count": 0,
      "outputs": []
    },
    {
      "metadata": {
        "id": "acyxS12E67lW",
        "colab_type": "code",
        "colab": {}
      },
      "cell_type": "code",
      "source": [
        "# transforms only 2-channel audiofile, others leaves untouched\n",
        "def make_mono_audiofile(data):\n",
        "    if data.shape[1] == 2:\n",
        "        data = (data[:, 0] + data[:,1]) / 2\n",
        "    return data\n",
        "        \n",
        "# переводит в данном датафрейме в полях \"OnsetTime\" и \"OffsetTIme\" время в секундах в номер фрейма\n",
        "def translate_time_to_sample_number(data):\n",
        "    data[\"OnsetTime\"] = np.round(data.values[:, 0] * SAMPLERATE).astype(int)\n",
        "    data[\"OffsetTime\"] = np.round(data.values[:, 1] * SAMPLERATE).astype(int)\n",
        "    return data"
      ],
      "execution_count": 0,
      "outputs": []
    },
    {
      "metadata": {
        "id": "2nrPdYPd67lY",
        "colab_type": "text"
      },
      "cell_type": "markdown",
      "source": [
        "#### A sample is the smallest usable quantum of digital audio. The term frame isn't formally defined in pure audio terms, but is often used in relation to video that may accompany an audio track. In that context a frame is the quantity of audio samples taken during a video frame interval."
      ]
    },
    {
      "metadata": {
        "id": "cnZo88-_67lZ",
        "colab_type": "text"
      },
      "cell_type": "markdown",
      "source": [
        "According to my copy of the absolutely essential (!) Master Handbook of Acoustics, to hear shorter tones, that is sounds with a short impulse, they need to be louder:\n",
        "\n",
        "A 1,000-Hz tone sounds like 1,000 Hz in a 1-second tone burst, but an extremely short burst sounds like a click. The duration of such a burst also influences the perceived loudness. Short bursts do not sound as loud as longer ones... A pulse 3 milliseconds long must have a level about 15dB higher to sound as loud as a 0.5-second (500 millisecond) pulse. Tones and random noise follow roughly the same relationship in loudness vs. pulse length.\n",
        "\n",
        "The 100-msec region is significant... Only when the tones or noise bursts are shorter than this amount must the sound-pressure level be increased to produce a loudness equal to that of long pulses or steady tones or noise. This 100 msec appears to be the integrating time or the time constant of the human ear. (Everest 2001, 60-61)"
      ]
    },
    {
      "metadata": {
        "id": "gYVV1iFq67lb",
        "colab_type": "code",
        "colab": {}
      },
      "cell_type": "code",
      "source": [
        "# returns frames (numpy.ndarray of the shape (None, WINDOW_SIZE))\n",
        "# and labels (numpy.ndarray of the shape (None, MIDI_PITCH_NUM))) for an audiofile\n",
        "def preprocess_audiofile(path_wav, path_txt):\n",
        "    \n",
        "    # data (numpy.ndarray) – a two-dimensional NumPy array is returned,\n",
        "    # where the channels are stored along the first dimension, i.e. as columns. \n",
        "    data_wav, samplerate = sf.read(path_wav)\n",
        "    data_txt = pd.read_csv(path_txt, sep=\"\\t\", header=0)\n",
        "\n",
        "    assert(samplerate==SAMPLERATE)\n",
        "    \n",
        "    data_wav = make_mono_audiofile(data_wav)\n",
        "    data_txt = translate_time_to_sample_number(data_txt)\n",
        "    chunks_amount = len(data_wav) // WINDOW_SIZE\n",
        "    samples_amount = WINDOW_SIZE * chunks_amount\n",
        "    # отбрасываем конец аудиофайла, если количество\n",
        "    # сэмплов в нем НЕ делится ровно на WINDOW_SIZE\n",
        "    data_wav = data_wav[:samples_amount] \n",
        "    \n",
        "    # делим data_wav на одинаковые chunks_amount, если длина data_wav\n",
        "    # НЕ делится ровно на chunks_amount, то np.split должен будет выбросить exception\n",
        "    frames = np.array(np.split(data_wav, chunks_amount))\n",
        "    labels = np.array(get_labels_for_audiofile(data_txt, frames))\n",
        "    \n",
        "    if DEBUG_MODE:\n",
        "        print(\"==== preprocessing file: {} ====\".format(path_wav))\n",
        "        print(\"frames shape: {}\".format(frames.shape))\n",
        "        print(\"labels shape: {}\".format(labels.shape))\n",
        "        assert frames.shape[0] == labels.shape[0], \"frames.shape[0] should be equal to labels.shape[0]\"\n",
        "    return frames, labels\n",
        "    "
      ],
      "execution_count": 0,
      "outputs": []
    },
    {
      "metadata": {
        "id": "l9hzh3yD67ld",
        "colab_type": "code",
        "colab": {}
      },
      "cell_type": "code",
      "source": [
        "def get_labels_for_audiofile(data_txt, frames):\n",
        "    \n",
        "    # Для каждого frame'a заданного размера WINDOW_SIZE хотим создать label,\n",
        "    # который представляет из себя вектор из 0 и 1 размера MIDI_PITCH_AMOUNT,\n",
        "    # обозначающий, звучала ли соответствующая нота во время этого frame'a или нет\n",
        "    # инициализируем все нулями\n",
        "    labels = np.zeros((len(frames), MIDI_PITCH_AMOUNT), dtype=int)\n",
        "    \n",
        "    for i in np.arange(data_txt.shape[0]):\n",
        "\n",
        "        onset_time = data_txt.values[i][0]\n",
        "        offset_time = data_txt.values[i][1]\n",
        "        midi_pitch = data_txt.values[i][2]\n",
        "        midi_statistics[midi_pitch] += 1\n",
        "        \n",
        "        begin_frame = onset_time // WINDOW_SIZE\n",
        "        end_frame = offset_time // WINDOW_SIZE\n",
        "        \n",
        "        \n",
        "        for frame_num in np.arange(begin_frame, end_frame + 1):\n",
        "            \n",
        "            if frame_num == begin_frame:\n",
        "                if (((begin_frame + 1) * WINDOW_SIZE - 1) - onset_time) > MIN_SAMPLES_PRESENT:\n",
        "                    # помечаем, что данный midi_pitch звучал в рассматриваемом frame'e\n",
        "                    labels[begin_frame][midi_pitch] = 1\n",
        "                    continue\n",
        "            if frame_num == end_frame:\n",
        "                if (offset_time - (end_frame * WINDOW_SIZE)) > MIN_SAMPLES_PRESENT:\n",
        "                    labels[end_frame][midi_pitch] = 1\n",
        "                    continue\n",
        "                    \n",
        "            # если между begin_frame и end_frame есть хотя бы один frame, то очевидно,\n",
        "            # что данный midi_pitch звучал на протяжении всего frame'a\n",
        "            labels[frame_num][midi_pitch] = 1\n",
        "\n",
        "    return labels\n",
        "    "
      ],
      "execution_count": 0,
      "outputs": []
    },
    {
      "metadata": {
        "id": "8ihWbGCq67le",
        "colab_type": "text"
      },
      "cell_type": "markdown",
      "source": [
        "### Теперь мы готовы обработать все имеющиеся аудиофайлы, и подготовить data (X) и labels (y) для будущей нейронной сети"
      ]
    },
    {
      "metadata": {
        "id": "KTM7OuvnNr8M",
        "colab_type": "code",
        "colab": {}
      },
      "cell_type": "code",
      "source": [
        "def format_time(s):\n",
        "    hours, remainder = divmod(s, 3600)\n",
        "    minutes, seconds = divmod(remainder, 60)\n",
        "    print('{:02}:{:02}:{:02}'.format(int(hours), int(minutes), int(seconds)))"
      ],
      "execution_count": 0,
      "outputs": []
    },
    {
      "metadata": {
        "id": "ZSJej1sr67lf",
        "colab_type": "code",
        "colab": {}
      },
      "cell_type": "code",
      "source": [
        "def preprocess_all_audiofiles(files, name_to_save):\n",
        "  \n",
        "    start_time = time.time()\n",
        "    X = np.array([])\n",
        "    y = np.array([])\n",
        "    num_files = len(files)\n",
        "    \n",
        "    for i in np.arange(len(files)):\n",
        "        \n",
        "        print(\"! {}/{}\".format(i, num_files))\n",
        "        \n",
        "        file_triplet = files[i]\n",
        "        file_data, file_labels = preprocess_audiofile(file_triplet[0], file_triplet[2])\n",
        "        if len(X) == 0 and len(y) == 0: # инициализация\n",
        "            X = file_data\n",
        "            y = file_labels\n",
        "        else:\n",
        "            X = np.concatenate((X, file_data), axis=0)\n",
        "            y = np.concatenate((y, file_labels), axis=0)\n",
        "            \n",
        "        if DEBUG_MODE:\n",
        "            print(\"---- current X shape: {}\".format(X.shape))\n",
        "            print(\"---- current y shape: {}\".format(y.shape))\n",
        "            \n",
        "        # сохраняем обработанные данный на диск, на всякий случай\n",
        "        if i % SAVE_DATA_TO_FILE_PERIOD == 0:\n",
        "            np.save(\"X_\" + name_to_save + \"_data.npy\", X)\n",
        "            np.save(\"y_\" + name_to_save + \"_data.npy\", y)\n",
        "            np.save(\"midi_statistics.npy\", midi_statistics)\n",
        "        \n",
        "        clear_output()\n",
        "        \n",
        "    np.save(\"X_\" + name_to_save + \"_data.npy\", X)\n",
        "    np.save(\"y_\" + name_to_save + \"_data.npy\", y)\n",
        "    np.save(\"midi_statistics.npy\", midi_statistics)\n",
        "        \n",
        "    print(\"============ OVERALL X shape: {} ============\".format(X.shape))\n",
        "    print(\"============ OVERALL y shape: {} ============\".format(y.shape))\n",
        "    end_time = time.time()\n",
        "    elapsed_time = format_time(end_time - start_time)\n",
        "    print(\"Elapsed time: {}\".format(elapsed_time))\n",
        "\n",
        "    return X, y"
      ],
      "execution_count": 0,
      "outputs": []
    },
    {
      "metadata": {
        "id": "1ZFoYGGZH6Ut",
        "colab_type": "text"
      },
      "cell_type": "markdown",
      "source": [
        "### The contents of MAPS is divided in four sets:\n",
        "* the ISOL set: isolated notes and monophonic excerpts\n",
        "* the RAND set: chords with random pitch notes\n",
        "* the UCHO set: usual chords from Western music\n",
        "* the MUS set: pieces of piano music"
      ]
    },
    {
      "metadata": {
        "id": "514qaDf667lg",
        "colab_type": "code",
        "outputId": "08f0978b-678e-40ec-dca4-0b797da9b3bd",
        "colab": {
          "base_uri": "https://localhost:8080/",
          "height": 85
        }
      },
      "cell_type": "code",
      "source": [
        "\n",
        "files_isol = collect_files_from_directory(REL_PATHS[0])\n",
        "files_rand = collect_files_from_directory(REL_PATHS[1])\n",
        "files_ucho = collect_files_from_directory(REL_PATHS[2])\n",
        "files_mus = collect_files_from_directory(REL_PATHS[3])\n",
        "\n",
        "print(\"files_isol shape: {}\".format(files_isol.shape))\n",
        "print(\"files_rand shape: {}\".format(files_rand.shape))\n",
        "print(\"files_ucho shape: {}\".format(files_ucho.shape))\n",
        "print(\"files_mus shape: {}\".format(files_mus.shape))\n"
      ],
      "execution_count": 19,
      "outputs": [
        {
          "output_type": "stream",
          "text": [
            "files_isol shape: (735, 3)\n",
            "files_rand shape: (1200, 3)\n",
            "files_ucho shape: (1770, 3)\n",
            "files_mus shape: (30, 3)\n"
          ],
          "name": "stdout"
        }
      ]
    },
    {
      "metadata": {
        "id": "O_iTEdnHI5Ez",
        "colab_type": "code",
        "outputId": "8bbf0ada-a4a7-4744-8cd5-3f8b40fe8529",
        "colab": {
          "base_uri": "https://localhost:8080/",
          "height": 85
        }
      },
      "cell_type": "code",
      "source": [
        "X_isol, y_isol = preprocess_all_audiofiles(files_isol, \"isol\")"
      ],
      "execution_count": 20,
      "outputs": [
        {
          "output_type": "stream",
          "text": [
            "============ OVERALL X shape: (8514, 16384) ============\n",
            "============ OVERALL y shape: (8514, 128) ============\n",
            "00:12:21\n",
            "Elapsed time: None\n"
          ],
          "name": "stdout"
        }
      ]
    },
    {
      "metadata": {
        "id": "ZJ-Ydg5yJWXS",
        "colab_type": "code",
        "outputId": "3058d65a-bc61-4308-ae91-d5212fb4c1af",
        "colab": {
          "base_uri": "https://localhost:8080/",
          "height": 85
        }
      },
      "cell_type": "code",
      "source": [
        "X_rand, y_rand = preprocess_all_audiofiles(files_rand, \"rand\")"
      ],
      "execution_count": 23,
      "outputs": [
        {
          "output_type": "stream",
          "text": [
            "============ OVERALL X shape: (8592, 16384) ============\n",
            "============ OVERALL y shape: (8592, 128) ============\n",
            "00:19:29\n",
            "Elapsed time: None\n"
          ],
          "name": "stdout"
        }
      ]
    },
    {
      "metadata": {
        "id": "tPuPUN8pKdCI",
        "colab_type": "code",
        "outputId": "8c86e9bc-9d5e-44c8-b78c-748934238311",
        "colab": {
          "base_uri": "https://localhost:8080/",
          "height": 85
        }
      },
      "cell_type": "code",
      "source": [
        "X_ucho, y_ucho = preprocess_all_audiofiles(files_ucho, \"ucho\")"
      ],
      "execution_count": 24,
      "outputs": [
        {
          "output_type": "stream",
          "text": [
            "============ OVERALL X shape: (15055, 16384) ============\n",
            "============ OVERALL y shape: (15055, 128) ============\n",
            "00:36:32\n",
            "Elapsed time: None\n"
          ],
          "name": "stdout"
        }
      ]
    },
    {
      "metadata": {
        "id": "ZaXgAAumKmVj",
        "colab_type": "code",
        "outputId": "5272c90a-958d-4bc3-a97f-fba0821cb1e0",
        "colab": {
          "base_uri": "https://localhost:8080/",
          "height": 85
        }
      },
      "cell_type": "code",
      "source": [
        "X_mus, y_mus = preprocess_all_audiofiles(files_mus, \"mus\")"
      ],
      "execution_count": 25,
      "outputs": [
        {
          "output_type": "stream",
          "text": [
            "============ OVERALL X shape: (21974, 16384) ============\n",
            "============ OVERALL y shape: (21974, 128) ============\n",
            "00:02:39\n",
            "Elapsed time: None\n"
          ],
          "name": "stdout"
        }
      ]
    },
    {
      "metadata": {
        "id": "xvJ0FYbw1fgO",
        "colab_type": "code",
        "colab": {}
      },
      "cell_type": "code",
      "source": [
        "def normalize_data(X):\n",
        "  X /= np.linalg.norm(X, axis=1, keepdims=True)"
      ],
      "execution_count": 0,
      "outputs": []
    },
    {
      "metadata": {
        "id": "u0SR3h-P67li",
        "colab_type": "text"
      },
      "cell_type": "markdown",
      "source": [
        "В этот момент было решено, что заранее обрабатывать все файлы каждый раз -- мучительно долго. Можно было бы обработать все один раз и записать все на диск. Но по предварительный подсчетам данных получилось бы слишком много, поэтому самым разумным решением было бы обрабатывать файлы и создавать батчи прямо во время обучения."
      ]
    },
    {
      "metadata": {
        "id": "_JEkUhQ867li",
        "colab_type": "code",
        "colab": {}
      },
      "cell_type": "code",
      "source": [
        "X = np.load(\"X_isol_data.npy\")\n",
        "y = np.load(\"y_isol_data.npy\")\n"
      ],
      "execution_count": 0,
      "outputs": []
    },
    {
      "metadata": {
        "id": "O4M4C58YWX6Z",
        "colab_type": "code",
        "colab": {}
      },
      "cell_type": "code",
      "source": [
        "normalize_data(X)"
      ],
      "execution_count": 0,
      "outputs": []
    },
    {
      "metadata": {
        "id": "IM4x39PW67lk",
        "colab_type": "code",
        "outputId": "6e5c835f-80e5-45d5-fa7c-8ad57890b137",
        "colab": {
          "base_uri": "https://localhost:8080/",
          "height": 34
        }
      },
      "cell_type": "code",
      "source": [
        "X.shape\n",
        "y.shape"
      ],
      "execution_count": 9,
      "outputs": [
        {
          "output_type": "execute_result",
          "data": {
            "text/plain": [
              "(8514, 128)"
            ]
          },
          "metadata": {
            "tags": []
          },
          "execution_count": 9
        }
      ]
    },
    {
      "metadata": {
        "id": "l_N4cCbphXrX",
        "colab_type": "code",
        "colab": {}
      },
      "cell_type": "code",
      "source": [
        "X_train, X_test, y_train, y_test = train_test_split(X, y, test_size=0.1, random_state=None)"
      ],
      "execution_count": 0,
      "outputs": []
    },
    {
      "metadata": {
        "id": "o9NbSShIgzOX",
        "colab_type": "text"
      },
      "cell_type": "markdown",
      "source": [
        "## Some statistics"
      ]
    },
    {
      "metadata": {
        "id": "NdMPjx0D67lm",
        "colab_type": "code",
        "colab": {}
      },
      "cell_type": "code",
      "source": [
        "midi_statistics = np.load(\"midi_statistics.npy\")\n"
      ],
      "execution_count": 0,
      "outputs": []
    },
    {
      "metadata": {
        "id": "f62Uc24R67ln",
        "colab_type": "code",
        "outputId": "6b09315e-bd7f-4aa1-b9ba-fe68e662f6a4",
        "colab": {
          "base_uri": "https://localhost:8080/",
          "height": 628
        }
      },
      "cell_type": "code",
      "source": [
        "\n",
        "plt.figure(figsize=(20,10))\n",
        "axes = plt.gca()\n",
        "axes.set_xlim([20,110])\n",
        "# axes.set_ylim([ymin,ymax])\n",
        "# N is the count in each bin, bins is the lower-limit of the bin\n",
        "N, bins, patches = plt.hist(np.arange(128), bins=128, weights=midi_statistics)\n",
        "# We'll color code by height, but you could use any scalar\n",
        "fracs = N / N.max()\n",
        "# we need to normalize the data to 0..1 for the full range of the colormap\n",
        "norm = colors.Normalize(fracs.min(), fracs.max())\n",
        "# plt.grid(True)\n",
        "for thisfrac, thispatch in zip(fracs, patches):\n",
        "    color = plt.cm.viridis(norm(thisfrac))\n",
        "    thispatch.set_facecolor(color)\n",
        "\n",
        "axes.set_title('Histogramm of midi pitches', fontdict = {'fontsize': 16})\n",
        "axes.set_xlabel('Midi pitches', fontdict = {'fontsize': 16, 'horizontalalignment': 'right'})\n",
        "# Now we format the y-axis to display percentage\n",
        "axes.yaxis.set_major_formatter(PercentFormatter(xmax=np.sum(midi_statistics)))\n",
        "plt.show()"
      ],
      "execution_count": 0,
      "outputs": [
        {
          "output_type": "display_data",
          "data": {
            "text/plain": [
              "<matplotlib.figure.Figure at 0x119df89e8>"
            ],
            "image/png": "[encoded data removed]"
          },
          "metadata": {
            "tags": []
          }
        }
      ]
    },
    {
      "metadata": {
        "id": "fUv1H6Yn67lp",
        "colab_type": "text"
      },
      "cell_type": "markdown",
      "source": [
        "## ITS TENSORFLOW TIME BABY"
      ]
    },
    {
      "metadata": {
        "id": "6C5EJ_Xc67lp",
        "colab_type": "text"
      },
      "cell_type": "markdown",
      "source": [
        "### Прямое дискретное преобразование Фурье\n",
        "$ X_k = \\sum\\limits_{n=0}^{N-1} x_n e^{-\\frac{2 \\pi i}{N} k n} = \\sum\\limits_{n=0}^{N-1} x_n\\cdot [\\cos(2 \\pi k n / N) - i\\cdot \\sin(2 \\pi k n / N)], \\qquad (k = 0, \\dots, N-1). $"
      ]
    },
    {
      "metadata": {
        "id": "62rygYiz67lp",
        "colab_type": "text"
      },
      "cell_type": "markdown",
      "source": [
        "Given an input tensor of shape [batch, in_height, in_width, in_channels] and a filter / kernel tensor of shape [filter_height, filter_width, in_channels, out_channels], this op performs the following:"
      ]
    },
    {
      "metadata": {
        "id": "eQIFsZ5f7uKT",
        "colab_type": "code",
        "colab": {}
      },
      "cell_type": "code",
      "source": [
        "def f1_loss(y_true, y_pred):\n",
        "    \n",
        "    tp = K.sum(K.cast(y_true*y_pred, 'float'), axis=0)\n",
        "    tn = K.sum(K.cast((1-y_true)*(1-y_pred), 'float'), axis=0)\n",
        "    fp = K.sum(K.cast((1-y_true)*y_pred, 'float'), axis=0)\n",
        "    fn = K.sum(K.cast(y_true*(1-y_pred), 'float'), axis=0)\n",
        "\n",
        "    p = tp / (tp + fp + K.epsilon())\n",
        "    r = tp / (tp + fn + K.epsilon())\n",
        "\n",
        "    f1 = 2*p*r / (p+r+K.epsilon())\n",
        "    f1 = tf.where(tf.is_nan(f1), tf.zeros_like(f1), f1)\n",
        "    return 1 - K.mean(f1)"
      ],
      "execution_count": 0,
      "outputs": []
    },
    {
      "metadata": {
        "id": "x5CFQfz667lq",
        "colab_type": "code",
        "colab": {}
      },
      "cell_type": "code",
      "source": [
        "# Эта модель использует при свертке short-time Fourier transform,\n",
        "# оттого так и называется\n",
        "class STFT():\n",
        "    def __init__(self):\n",
        "        self.learning_rate = tf.placeholder(tf.float32, shape=None, name='learning_rate')\n",
        "        self.stride = 512\n",
        "        self.receptive_field = 4096\n",
        "        self.start_freq = 50\n",
        "        self.end_freq = 6000\n",
        "        self.filters_amount= 512\n",
        "        #self.batch_size = 64\n",
        "        \n",
        "        self.frequencies = np.logspace(np.log(self.start_freq),\n",
        "                                       np.log(self.end_freq),\n",
        "                                       self.filters_amount,\n",
        "                                       base=np.e,\n",
        "                                       endpoint=True)\n",
        "        \n",
        "        self.discrete_time = np.arange(self.receptive_field)\n",
        "        \n",
        "        # number of lvl1 features\n",
        "        self.regions = (WINDOW_SIZE - self.receptive_field)/self.stride + 1\n",
        "        \n",
        "        # the shape of wsin and wcos is (1, 4096, 1, 512) for now\n",
        "        self.wsin = np.empty((1, self.receptive_field, 1, self.filters_amount), dtype=np.float32)\n",
        "        self.wcos = np.empty((1, self.receptive_field, 1, self.filters_amount), dtype=np.float32)\n",
        "        self.create_filters()\n",
        "        \n",
        "        # 'ph' stands for 'placeholder'\n",
        "        self.input_X_ph = tf.placeholder('float32', [None, 1, WINDOW_SIZE, 1], name=\"input_X\")\n",
        "        self.input_y_ph = tf.placeholder('float32', [None, MIDI_PITCH_AMOUNT], name=\"input_y\")\n",
        "        self.pred_y_ph = tf.placeholder('float32', [None, MIDI_PITCH_AMOUNT], name=\"pred_y\")\n",
        "\n",
        "        self.wsin_var = tf.constant(value=self.wsin, dtype='float32', name=\"wsin\")\n",
        "        self.wcos_var = tf.constant(value=self.wcos, dtype='float32', name=\"wcos\")\n",
        "\n",
        "        self.loss = None\n",
        "        self.accuracy = None\n",
        "        self.f1_score = None\n",
        "        self.optimizer_step = None\n",
        "                \n",
        "            \n",
        "    def create_filters(self):\n",
        "        for i in np.arange(self.filters_amount):\n",
        "            current_freq = self.frequencies[i]\n",
        "            args = 2 * np.pi * current_freq * self.discrete_time / self.receptive_field\n",
        "            self.wsin[0, :, 0, i] = np.sin(args)\n",
        "            self.wcos[0, :, 0, i] = np.cos(args)      \n",
        "        \n",
        "        \n",
        "    def define_graph(self, activation=None):\n",
        "        \n",
        "        conv_sin = tf.nn.conv2d(input=self.input_X_ph,\n",
        "                                filter=self.wsin_var,\n",
        "                                strides=[1, 1, self.stride, 1],\n",
        "                                padding=\"VALID\")\n",
        "        conv_cos = tf.nn.conv2d(input=self.input_X_ph,\n",
        "                                filter=self.wcos_var,\n",
        "                                strides=[1, 1, self.stride, 1],\n",
        "                                padding=\"VALID\")\n",
        "        \n",
        "        fourier_values_module_square = tf.square(conv_sin) + tf.square(conv_cos)\n",
        "        \n",
        "        # Output tensor the same shape as inputs except the last dimension is of size units.\n",
        "        dense_layer = tf.layers.Dense(units=MIDI_PITCH_AMOUNT, activation=activation)\n",
        "#           dense_layer = tf.layers.Dense(units=MIDI_PITCH_AMOUNT)\n",
        "  \n",
        "        \n",
        "        batch_size_ph = tf.shape(self.input_X_ph)[0]\n",
        "        \n",
        "        self.pred_y_ph = dense_layer(tf.reshape(tf.log(fourier_values_module_square + 10e-12),\n",
        "                                                shape=[batch_size_ph, tf.to_int32(self.regions * self.filters_amount)]))\n",
        "        \n",
        "#         self.loss = tf.reduce_mean(tf.nn.l2_loss(self.input_y_ph - self.pred_y_ph) / MIDI_PITCH_AMOUNT)\n",
        "        \n",
        "        y_pred_converted =  tf.cast(tf.math.round(self.pred_y_ph), tf.int32)\n",
        "        \n",
        "        self.accuracy = tf.metrics.accuracy(self.input_y_ph, y_pred_converted)\n",
        "        \n",
        "        self.f1_score = tf.contrib.metrics.f1_score(self.input_y_ph, y_pred_converted)\n",
        "        \n",
        "#         self.loss = -tf.reduce_mean(self.input_y_ph * tf.log(self.pred_y_ph + 1e-8) +\\\n",
        "#                                    (1 - self.input_y_ph) * tf.log(1 - self.pred_y_ph + 1e-8))\n",
        "        self.loss = f1_loss(self.input_y_ph, self.pred_y_ph)\n",
        "        \n",
        "        self.optimizer_step = tf.train.AdamOptimizer(learning_rate=self.learning_rate).minimize(self.loss)\n",
        "        \n",
        "        \n",
        "        \n",
        "    def train(self, X, y, sess, lr):\n",
        "        X =  np.reshape(X, (X.shape[0], 1, WINDOW_SIZE, 1))\n",
        "        loss, accuracy, f1_score, _ = sess.run([self.loss, self.accuracy, self.f1_score, self.optimizer_step],\n",
        "                                                feed_dict={self.input_X_ph: X,\n",
        "                                                self.input_y_ph: y,\n",
        "                                                self.learning_rate: lr})\n",
        "        return loss, accuracy, f1_score\n",
        "      \n",
        "      # НЕ ПРИНИМАЕТ НА ВХОД 1 ВЕКТОР!!! Если очень нужно, то нужно решейпнуть этот вектор в (1, len(вектор))\n",
        "    def predict(self, X, sess):\n",
        "      \n",
        "        X_reshaped = np.reshape(X, (X.shape[0], 1, WINDOW_SIZE, 1))\n",
        "        y_pred = sess.run(self.pred_y_ph, feed_dict={self.input_X_ph: X_reshaped})\n",
        "        return y_pred\n"
      ],
      "execution_count": 0,
      "outputs": []
    },
    {
      "metadata": {
        "id": "Z2JR2JAu67lr",
        "colab_type": "text"
      },
      "cell_type": "markdown",
      "source": [
        "### Train"
      ]
    },
    {
      "metadata": {
        "id": "cz5k8LrDl_4a",
        "colab_type": "code",
        "colab": {}
      },
      "cell_type": "code",
      "source": [
        "batch_size= 64\n",
        "n_epoch = 100\n",
        "lr = 0.00001"
      ],
      "execution_count": 0,
      "outputs": []
    },
    {
      "metadata": {
        "id": "jfcjx-b6vAQ3",
        "colab_type": "code",
        "colab": {
          "base_uri": "https://localhost:8080/",
          "height": 34
        },
        "outputId": "b24dbc4d-2e68-4769-8f39-6946e7a566f4"
      },
      "cell_type": "code",
      "source": [
        "tf.reset_default_graph()\n",
        "sess.close()\n",
        "tf.trainable_variables()"
      ],
      "execution_count": 361,
      "outputs": [
        {
          "output_type": "execute_result",
          "data": {
            "text/plain": [
              "[]"
            ]
          },
          "metadata": {
            "tags": []
          },
          "execution_count": 361
        }
      ]
    },
    {
      "metadata": {
        "id": "nqsUHcqw67lr",
        "colab_type": "code",
        "outputId": "0317b748-07da-47ad-f823-d4c8f7f1342d",
        "colab": {
          "base_uri": "https://localhost:8080/",
          "height": 51
        }
      },
      "cell_type": "code",
      "source": [
        "stft = STFT()\n",
        "stft.define_graph(activation=tf.nn.sigmoid)\n",
        "tf.trainable_variables()\n"
      ],
      "execution_count": 362,
      "outputs": [
        {
          "output_type": "execute_result",
          "data": {
            "text/plain": [
              "[<tf.Variable 'dense/kernel:0' shape=(12800, 128) dtype=float32_ref>,\n",
              " <tf.Variable 'dense/bias:0' shape=(128,) dtype=float32_ref>]"
            ]
          },
          "metadata": {
            "tags": []
          },
          "execution_count": 362
        }
      ]
    },
    {
      "metadata": {
        "id": "C6GZSlxv67lt",
        "colab_type": "code",
        "colab": {
          "base_uri": "https://localhost:8080/",
          "height": 71
        },
        "outputId": "962ee004-3d86-4209-9798-c192c0f5bc7a"
      },
      "cell_type": "code",
      "source": [
        "# init_op = tf.initialize_all_variables()\n",
        "\n",
        "#   sess = tf.Session()\n",
        "sess = tf.InteractiveSession()\n",
        "# sess.run(init_op)\n",
        "\n",
        "\n",
        "# присвоить всем переменным их initial_value\n",
        "sess.run(tf.global_variables_initializer())\n",
        "sess.run(tf.local_variables_initializer())"
      ],
      "execution_count": 363,
      "outputs": [
        {
          "output_type": "stream",
          "text": [
            "/usr/local/lib/python3.6/dist-packages/tensorflow/python/client/session.py:1702: UserWarning: An interactive session is already active. This can cause out-of-memory errors in some cases. You must explicitly call `InteractiveSession.close()` to release resources held by the other session(s).\n",
            "  warnings.warn('An interactive session is already active. This can '\n"
          ],
          "name": "stderr"
        }
      ]
    },
    {
      "metadata": {
        "id": "c4-YikDR67lu",
        "colab_type": "code",
        "colab": {}
      },
      "cell_type": "code",
      "source": [
        "def get_batches(X, y, batch_size):\n",
        "    n_samples = X.shape[0]\n",
        "    # Shuffle at the start of epoch\n",
        "    indices = np.arange(n_samples)\n",
        "    np.random.shuffle(indices)\n",
        "    \n",
        "    for start in range(0, n_samples, batch_size):\n",
        "        \n",
        "        end = min(start + batch_size, n_samples)\n",
        "        #f end == n_samples:\n",
        "        #    break\n",
        "        batch_idx = indices[start:end]\n",
        "    \n",
        "        yield X[batch_idx], y[batch_idx]"
      ],
      "execution_count": 0,
      "outputs": []
    },
    {
      "metadata": {
        "id": "bCfl4Hbm67lv",
        "colab_type": "code",
        "colab": {}
      },
      "cell_type": "code",
      "source": [
        "train_loss_history = []\n",
        "train_accuracy_history = []\n",
        "train_f1_score_history = []\n",
        "test_loss_history = []\n",
        "test_accuracy_history = []"
      ],
      "execution_count": 0,
      "outputs": []
    },
    {
      "metadata": {
        "id": "_wthoZsy9cDp",
        "colab_type": "text"
      },
      "cell_type": "markdown",
      "source": [
        "### Train history\n",
        "* loss = f1-loss\n",
        "* 10 - 0.000001\n",
        "* 20 - 0.00001\n",
        "* 20 - 0.0001 // bad!\n",
        "\n",
        "* loss = f1-loss\n",
        "* 20 - 0.00001\n",
        "* 20 - 0.00001\n",
        "* 20 - 0.00005 // bad!\n",
        "\n",
        "\n",
        "* loss = f1-loss\n",
        "*  20 - 0.00005 //bad\n",
        "\n",
        "* loss=f1-loss\n",
        "* 20 - 0.00002 // not very good\n",
        "\n",
        "* loss = f1-score\n",
        "* 40 - 0.00001\n",
        "* 40 - 0.00001"
      ]
    },
    {
      "metadata": {
        "id": "XLGA63eJl2XM",
        "colab_type": "code",
        "colab": {}
      },
      "cell_type": "code",
      "source": [
        "def get_epoch_accuracy_and_loss(X, y):\n",
        "    loss_arr = []\n",
        "    accuracy_arr = []\n",
        "    f1_score_arr = []\n",
        "    for x_batch, y_batch in get_batches(X, y, batch_size):\n",
        "      \n",
        "#         x_batch = np.reshape(x_batch, (batch_size, 1, WINDOW_SIZE, 1))\n",
        "        loss, accuracy, f1_score = stft.train(x_batch, y_batch, sess, lr)\n",
        "        \n",
        "        loss_arr.append(loss)\n",
        "        accuracy_arr.append(accuracy)\n",
        "        f1_score_arr.append(f1_score)\n",
        "        \n",
        "    return np.mean(accuracy_arr), np.mean(loss_arr), np.mean(f1_score_arr)"
      ],
      "execution_count": 0,
      "outputs": []
    },
    {
      "metadata": {
        "id": "noej3zNn67lw",
        "colab_type": "code",
        "outputId": "dddced27-6545-434c-8911-ccda6eced1ba",
        "colab": {
          "base_uri": "https://localhost:8080/",
          "height": 508
        }
      },
      "cell_type": "code",
      "source": [
        "for i in range(n_epoch):\n",
        "\n",
        "    train_epoch_accuracy, train_epoch_loss, train_epoch_f1_score = get_epoch_accuracy_and_loss(X_train, y_train)\n",
        "#     test_epoch_accuracy, test_epoch_loss = get_epoch_accuracy_and_loss(X_test, y_test)\n",
        "\n",
        "    train_loss_history.append(train_epoch_loss)\n",
        "    train_accuracy_history.append(train_epoch_accuracy)\n",
        "    train_f1_score_history.append(train_epoch_f1_score)\n",
        "#     test_loss_history.append(test_epoch_loss)\n",
        "#     test_accuracy_history.append(test_epoch_accuracy)\n",
        "    clear_output(wait=True)\n",
        "    plt.figure(figsize=(20, 7))\n",
        "\n",
        "    plt.subplot(1, 3, 1)\n",
        "    plt.title(\"Train and test loss\")\n",
        "    plt.xlabel(\"#epoch\")\n",
        "    plt.ylabel(\"loss\")\n",
        "#     plt.yscale(\"log\")\n",
        "    plt.plot(train_loss_history, 'b', color='blue')\n",
        "#     plt.plot(test_loss_history, 'b', color='green')\n",
        "    \n",
        "    plt.subplot(1, 3, 2)\n",
        "    plt.title(\"Train and test accuracy\")\n",
        "    plt.xlabel(\"#epoch\")\n",
        "    plt.ylabel(\"accuracy\")\n",
        "    plt.plot(train_accuracy_history, 'b', color='blue')\n",
        "#     plt.plot(test_accuracy_history, 'b', color='green')\n",
        "\n",
        "    plt.subplot(1, 3, 3)\n",
        "    plt.title(\"Train and test f1-score\")\n",
        "    plt.xlabel(\"#epoch\")\n",
        "    plt.ylabel(\"f1-score\")\n",
        "    plt.plot(train_f1_score_history, 'b', color='blue')\n",
        "\n",
        " \n",
        "    plt.show()\n",
        "    \n",
        "    print('Current train loss: %f' % train_epoch_loss)\n",
        "#     print('Current test loss: %f' % test_epoch_loss)\n",
        "    print('Current train accuracy: %f' % train_epoch_accuracy)\n",
        "#     print('Current test accuracy: %f' % test_epoch_accuracy)\n",
        "    print('Current train f1-score: %f' % train_epoch_f1_score)\n",
        "    "
      ],
      "execution_count": 0,
      "outputs": [
        {
          "output_type": "display_data",
          "data": {
            "image/png": "[encoded data removed]",
            "text/plain": [
              "<Figure size 1440x504 with 3 Axes>"
            ]
          },
          "metadata": {
            "tags": []
          }
        },
        {
          "output_type": "stream",
          "text": [
            "Current train loss: 0.798555\n",
            "Current train accuracy: 0.715682\n",
            "Current train f1-score: 0.037578\n"
          ],
          "name": "stdout"
        }
      ]
    },
    {
      "metadata": {
        "id": "-lplmC7y426-",
        "colab_type": "text"
      },
      "cell_type": "markdown",
      "source": [
        "https://www.kaggle.com/rejpalcz/best-loss-function-for-f1-score-metric"
      ]
    },
    {
      "metadata": {
        "id": "NJOwGpEujj__",
        "colab_type": "code",
        "outputId": "35c4f042-4607-45a7-c9eb-51287da30e88",
        "colab": {
          "base_uri": "https://localhost:8080/",
          "height": 34
        }
      },
      "cell_type": "code",
      "source": [
        "X[6:9].shape"
      ],
      "execution_count": 0,
      "outputs": [
        {
          "output_type": "execute_result",
          "data": {
            "text/plain": [
              "(3, 16384)"
            ]
          },
          "metadata": {
            "tags": []
          },
          "execution_count": 103
        }
      ]
    },
    {
      "metadata": {
        "id": "ylNz2VU6j_2X",
        "colab_type": "code",
        "outputId": "aa894130-be38-43fe-bf74-cd3df79c6a8c",
        "colab": {
          "base_uri": "https://localhost:8080/",
          "height": 34
        }
      },
      "cell_type": "code",
      "source": [
        "np.argmax(y[6])"
      ],
      "execution_count": 0,
      "outputs": [
        {
          "output_type": "execute_result",
          "data": {
            "text/plain": [
              "64"
            ]
          },
          "metadata": {
            "tags": []
          },
          "execution_count": 105
        }
      ]
    },
    {
      "metadata": {
        "id": "O3nl5n-T67l0",
        "colab_type": "code",
        "colab": {}
      },
      "cell_type": "code",
      "source": [
        "y_pred = sess.run(stft.pred_y_ph, feed_dict={stft.input_X_ph: np.reshape(X[6:9], (X[6:9].shape[0], 1, WINDOW_SIZE, 1))})"
      ],
      "execution_count": 0,
      "outputs": []
    },
    {
      "metadata": {
        "id": "qssEiYBPjvzY",
        "colab_type": "code",
        "outputId": "a67185ab-842a-4818-f0f7-314c2cd75784",
        "colab": {
          "base_uri": "https://localhost:8080/",
          "height": 34
        }
      },
      "cell_type": "code",
      "source": [
        "np.max(y_pred[1])\n"
      ],
      "execution_count": 0,
      "outputs": [
        {
          "output_type": "execute_result",
          "data": {
            "text/plain": [
              "0.0075267605"
            ]
          },
          "metadata": {
            "tags": []
          },
          "execution_count": 112
        }
      ]
    },
    {
      "metadata": {
        "id": "5txKqSBn67l4",
        "colab_type": "code",
        "colab": {
          "base_uri": "https://localhost:8080/",
          "height": 51
        },
        "outputId": "1941bf52-4e15-44ab-bba5-5fb65c10c7ae"
      },
      "cell_type": "code",
      "source": [
        "np.round([[0.1232, 0.12333, 0.556, 0.5], [0.6232, 0.12333, 0.556, 0.5]], decimals=0).astype(int)"
      ],
      "execution_count": 34,
      "outputs": [
        {
          "output_type": "execute_result",
          "data": {
            "text/plain": [
              "array([[0, 0, 1, 0],\n",
              "       [1, 0, 1, 0]])"
            ]
          },
          "metadata": {
            "tags": []
          },
          "execution_count": 34
        }
      ]
    },
    {
      "metadata": {
        "id": "2Tm3PJ4dllnN",
        "colab_type": "code",
        "colab": {
          "base_uri": "https://localhost:8080/",
          "height": 34
        },
        "outputId": "adcd0d20-5755-407c-e2d8-b4b6e0d9636f"
      },
      "cell_type": "code",
      "source": [
        "accuracy_score(y_train[1], y_train[3])"
      ],
      "execution_count": 45,
      "outputs": [
        {
          "output_type": "execute_result",
          "data": {
            "text/plain": [
              "0.984375"
            ]
          },
          "metadata": {
            "tags": []
          },
          "execution_count": 45
        }
      ]
    },
    {
      "metadata": {
        "id": "BkhTMoXdlpBk",
        "colab_type": "code",
        "colab": {}
      },
      "cell_type": "code",
      "source": [
        ""
      ],
      "execution_count": 0,
      "outputs": []
    }
  ]
}